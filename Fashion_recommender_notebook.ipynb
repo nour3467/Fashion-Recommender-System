{
 "cells": [
  {
   "cell_type": "markdown",
   "metadata": {},
   "source": [
    "<h1> Packages import </h1>"
   ]
  },
  {
   "cell_type": "code",
   "execution_count": 2,
   "metadata": {},
   "outputs": [
    {
     "data": {
      "text/html": [
       "        <script type=\"text/javascript\">\n",
       "        window.PlotlyConfig = {MathJaxConfig: 'local'};\n",
       "        if (window.MathJax) {MathJax.Hub.Config({SVG: {font: \"STIX-Web\"}});}\n",
       "        if (typeof require !== 'undefined') {\n",
       "        require.undef(\"plotly\");\n",
       "        requirejs.config({\n",
       "            paths: {\n",
       "                'plotly': ['https://cdn.plot.ly/plotly-2.6.3.min']\n",
       "            }\n",
       "        });\n",
       "        require(['plotly'], function(Plotly) {\n",
       "            window._Plotly = Plotly;\n",
       "        });\n",
       "        }\n",
       "        </script>\n",
       "        "
      ]
     },
     "metadata": {},
     "output_type": "display_data"
    }
   ],
   "source": [
    "#import all the necessary packages.\n",
    "from io import BytesIO\n",
    "import matplotlib.pyplot as plt\n",
    "import numpy as np\n",
    "import pandas as pd\n",
    "import warnings\n",
    "from bs4 import BeautifulSoup\n",
    "from nltk.corpus import stopwords\n",
    "from nltk.tokenize import word_tokenize\n",
    "import nltk\n",
    "import math\n",
    "import time\n",
    "import re\n",
    "import random\n",
    "import os\n",
    "import seaborn as sns\n",
    "from collections import Counter\n",
    "from sklearn.feature_extraction.text import CountVectorizer\n",
    "from sklearn.feature_extraction.text import TfidfVectorizer\n",
    "from sklearn.metrics.pairwise import cosine_similarity  \n",
    "from sklearn.metrics import pairwise_distances\n",
    "from matplotlib import gridspec\n",
    "from scipy.sparse import hstack\n",
    "import plotly\n",
    "import plotly.figure_factory as ff\n",
    "from plotly.graph_objs import Scatter, Layout\n",
    "\n",
    "plotly.offline.init_notebook_mode(connected=True)\n",
    "warnings.filterwarnings(\"ignore\")"
   ]
  },
  {
   "cell_type": "markdown",
   "metadata": {},
   "source": [
    "### Data Import"
   ]
  },
  {
   "cell_type": "code",
   "execution_count": 2,
   "metadata": {},
   "outputs": [
    {
     "name": "stdout",
     "output_type": "stream",
     "text": [
      "Number of data points :  183138 Number of features/variables: 19\n",
      "Index(['sku', 'asin', 'product_type_name', 'formatted_price', 'author',\n",
      "       'color', 'brand', 'publisher', 'availability', 'reviews',\n",
      "       'large_image_url', 'availability_type', 'small_image_url',\n",
      "       'editorial_review', 'title', 'model', 'medium_image_url',\n",
      "       'manufacturer', 'editorial_reivew'],\n",
      "      dtype='object')\n"
     ]
    },
    {
     "data": {
      "text/html": [
       "<div>\n",
       "<style scoped>\n",
       "    .dataframe tbody tr th:only-of-type {\n",
       "        vertical-align: middle;\n",
       "    }\n",
       "\n",
       "    .dataframe tbody tr th {\n",
       "        vertical-align: top;\n",
       "    }\n",
       "\n",
       "    .dataframe thead th {\n",
       "        text-align: right;\n",
       "    }\n",
       "</style>\n",
       "<table border=\"1\" class=\"dataframe\">\n",
       "  <thead>\n",
       "    <tr style=\"text-align: right;\">\n",
       "      <th></th>\n",
       "      <th>sku</th>\n",
       "      <th>asin</th>\n",
       "      <th>product_type_name</th>\n",
       "      <th>formatted_price</th>\n",
       "      <th>author</th>\n",
       "      <th>color</th>\n",
       "      <th>brand</th>\n",
       "      <th>publisher</th>\n",
       "      <th>availability</th>\n",
       "      <th>reviews</th>\n",
       "      <th>large_image_url</th>\n",
       "      <th>availability_type</th>\n",
       "      <th>small_image_url</th>\n",
       "      <th>editorial_review</th>\n",
       "      <th>title</th>\n",
       "      <th>model</th>\n",
       "      <th>medium_image_url</th>\n",
       "      <th>manufacturer</th>\n",
       "      <th>editorial_reivew</th>\n",
       "    </tr>\n",
       "  </thead>\n",
       "  <tbody>\n",
       "    <tr>\n",
       "      <th>0</th>\n",
       "      <td>None</td>\n",
       "      <td>B016I2TS4W</td>\n",
       "      <td>SHIRT</td>\n",
       "      <td>None</td>\n",
       "      <td>None</td>\n",
       "      <td>None</td>\n",
       "      <td>FNC7C</td>\n",
       "      <td>None</td>\n",
       "      <td>None</td>\n",
       "      <td>[False, https://www.amazon.com/reviews/iframe?...</td>\n",
       "      <td>https://images-na.ssl-images-amazon.com/images...</td>\n",
       "      <td>None</td>\n",
       "      <td>https://images-na.ssl-images-amazon.com/images...</td>\n",
       "      <td>Minions Como Superheroes Ironman Women's O Nec...</td>\n",
       "      <td>Minions Como Superheroes Ironman Long Sleeve R...</td>\n",
       "      <td>None</td>\n",
       "      <td>https://images-na.ssl-images-amazon.com/images...</td>\n",
       "      <td>None</td>\n",
       "      <td>NaN</td>\n",
       "    </tr>\n",
       "    <tr>\n",
       "      <th>1</th>\n",
       "      <td>None</td>\n",
       "      <td>B01N49AI08</td>\n",
       "      <td>SHIRT</td>\n",
       "      <td>None</td>\n",
       "      <td>None</td>\n",
       "      <td>None</td>\n",
       "      <td>FIG Clothing</td>\n",
       "      <td>None</td>\n",
       "      <td>None</td>\n",
       "      <td>[False, https://www.amazon.com/reviews/iframe?...</td>\n",
       "      <td>https://images-na.ssl-images-amazon.com/images...</td>\n",
       "      <td>None</td>\n",
       "      <td>https://images-na.ssl-images-amazon.com/images...</td>\n",
       "      <td>Sizing runs on the small side. FIG® recommends...</td>\n",
       "      <td>FIG Clothing Womens Izo Tunic</td>\n",
       "      <td>None</td>\n",
       "      <td>https://images-na.ssl-images-amazon.com/images...</td>\n",
       "      <td>None</td>\n",
       "      <td>NaN</td>\n",
       "    </tr>\n",
       "    <tr>\n",
       "      <th>2</th>\n",
       "      <td>None</td>\n",
       "      <td>B01JDPCOHO</td>\n",
       "      <td>SHIRT</td>\n",
       "      <td>None</td>\n",
       "      <td>None</td>\n",
       "      <td>None</td>\n",
       "      <td>FIG Clothing</td>\n",
       "      <td>None</td>\n",
       "      <td>None</td>\n",
       "      <td>[False, https://www.amazon.com/reviews/iframe?...</td>\n",
       "      <td>https://images-na.ssl-images-amazon.com/images...</td>\n",
       "      <td>None</td>\n",
       "      <td>https://images-na.ssl-images-amazon.com/images...</td>\n",
       "      <td>Sizing runs on the small side. FIG® recommends...</td>\n",
       "      <td>FIG Clothing Womens Won Top</td>\n",
       "      <td>None</td>\n",
       "      <td>https://images-na.ssl-images-amazon.com/images...</td>\n",
       "      <td>None</td>\n",
       "      <td>NaN</td>\n",
       "    </tr>\n",
       "    <tr>\n",
       "      <th>3</th>\n",
       "      <td>None</td>\n",
       "      <td>B01N19U5H5</td>\n",
       "      <td>SHIRT</td>\n",
       "      <td>None</td>\n",
       "      <td>None</td>\n",
       "      <td>None</td>\n",
       "      <td>Focal18</td>\n",
       "      <td>None</td>\n",
       "      <td>None</td>\n",
       "      <td>[True, https://www.amazon.com/reviews/iframe?a...</td>\n",
       "      <td>https://images-na.ssl-images-amazon.com/images...</td>\n",
       "      <td>None</td>\n",
       "      <td>https://images-na.ssl-images-amazon.com/images...</td>\n",
       "      <td>100% Brand New &amp; Fashion&lt;br&gt; Quantity: 1 Piece...</td>\n",
       "      <td>Focal18 Sailor Collar Bubble Sleeve Blouse Shi...</td>\n",
       "      <td>None</td>\n",
       "      <td>https://images-na.ssl-images-amazon.com/images...</td>\n",
       "      <td>None</td>\n",
       "      <td>NaN</td>\n",
       "    </tr>\n",
       "    <tr>\n",
       "      <th>4</th>\n",
       "      <td>None</td>\n",
       "      <td>B004GSI2OS</td>\n",
       "      <td>SHIRT</td>\n",
       "      <td>$26.26</td>\n",
       "      <td>None</td>\n",
       "      <td>Onyx Black/ Stone</td>\n",
       "      <td>FeatherLite</td>\n",
       "      <td>None</td>\n",
       "      <td>Usually ships in 6-10 business days</td>\n",
       "      <td>[False, https://www.amazon.com/reviews/iframe?...</td>\n",
       "      <td>https://images-na.ssl-images-amazon.com/images...</td>\n",
       "      <td>now</td>\n",
       "      <td>https://images-na.ssl-images-amazon.com/images...</td>\n",
       "      <td></td>\n",
       "      <td>Featherlite Ladies' Long Sleeve Stain Resistan...</td>\n",
       "      <td>None</td>\n",
       "      <td>https://images-na.ssl-images-amazon.com/images...</td>\n",
       "      <td>None</td>\n",
       "      <td>NaN</td>\n",
       "    </tr>\n",
       "    <tr>\n",
       "      <th>...</th>\n",
       "      <td>...</td>\n",
       "      <td>...</td>\n",
       "      <td>...</td>\n",
       "      <td>...</td>\n",
       "      <td>...</td>\n",
       "      <td>...</td>\n",
       "      <td>...</td>\n",
       "      <td>...</td>\n",
       "      <td>...</td>\n",
       "      <td>...</td>\n",
       "      <td>...</td>\n",
       "      <td>...</td>\n",
       "      <td>...</td>\n",
       "      <td>...</td>\n",
       "      <td>...</td>\n",
       "      <td>...</td>\n",
       "      <td>...</td>\n",
       "      <td>...</td>\n",
       "      <td>...</td>\n",
       "    </tr>\n",
       "    <tr>\n",
       "      <th>183133</th>\n",
       "      <td>None</td>\n",
       "      <td>B01MSALTSO</td>\n",
       "      <td>OUTERWEAR</td>\n",
       "      <td>$14.58</td>\n",
       "      <td>None</td>\n",
       "      <td>Black</td>\n",
       "      <td>TOOGOO(R)</td>\n",
       "      <td>None</td>\n",
       "      <td>Usually ships in 1-2 business days</td>\n",
       "      <td>[False, https://www.amazon.com/reviews/iframe?...</td>\n",
       "      <td>https://images-na.ssl-images-amazon.com/images...</td>\n",
       "      <td>now</td>\n",
       "      <td>https://images-na.ssl-images-amazon.com/images...</td>\n",
       "      <td>NaN</td>\n",
       "      <td>TOOGOO(R) Women's Tops Spring Autumn Casual Pu...</td>\n",
       "      <td>089106A4</td>\n",
       "      <td>https://images-na.ssl-images-amazon.com/images...</td>\n",
       "      <td>None</td>\n",
       "      <td>&lt;b&gt;* TOOGOO is a registered trademark. ONLY Au...</td>\n",
       "    </tr>\n",
       "    <tr>\n",
       "      <th>183134</th>\n",
       "      <td>None</td>\n",
       "      <td>B015W98YQK</td>\n",
       "      <td>SHIRT</td>\n",
       "      <td>None</td>\n",
       "      <td>None</td>\n",
       "      <td>Monochrome Plaid</td>\n",
       "      <td>VOGUE CODE</td>\n",
       "      <td>None</td>\n",
       "      <td>None</td>\n",
       "      <td>[False, https://www.amazon.com/reviews/iframe?...</td>\n",
       "      <td>https://images-na.ssl-images-amazon.com/images...</td>\n",
       "      <td>None</td>\n",
       "      <td>https://images-na.ssl-images-amazon.com/images...</td>\n",
       "      <td>NaN</td>\n",
       "      <td>VOGUE CODE Vintage V Neck Plaid Shirt Sleevele...</td>\n",
       "      <td>None</td>\n",
       "      <td>https://images-na.ssl-images-amazon.com/images...</td>\n",
       "      <td>None</td>\n",
       "      <td>SIZE CHART &lt;p&gt; XS for length of front 27.6\"; l...</td>\n",
       "    </tr>\n",
       "    <tr>\n",
       "      <th>183135</th>\n",
       "      <td>None</td>\n",
       "      <td>B075756PGC</td>\n",
       "      <td>SHIRT</td>\n",
       "      <td>None</td>\n",
       "      <td>None</td>\n",
       "      <td>Pink</td>\n",
       "      <td>Wrangler</td>\n",
       "      <td>None</td>\n",
       "      <td>None</td>\n",
       "      <td>[False, https://www.amazon.com/reviews/iframe?...</td>\n",
       "      <td>https://images-na.ssl-images-amazon.com/images...</td>\n",
       "      <td>None</td>\n",
       "      <td>https://images-na.ssl-images-amazon.com/images...</td>\n",
       "      <td>NaN</td>\n",
       "      <td>Wrangler George Strait For Her Long Sleeve Pin...</td>\n",
       "      <td>LGS7089</td>\n",
       "      <td>https://images-na.ssl-images-amazon.com/images...</td>\n",
       "      <td>None</td>\n",
       "      <td>Pretty pink print button down Western shirt fr...</td>\n",
       "    </tr>\n",
       "    <tr>\n",
       "      <th>183136</th>\n",
       "      <td>None</td>\n",
       "      <td>B074L8FVTT</td>\n",
       "      <td>SHIRT</td>\n",
       "      <td>$44.99</td>\n",
       "      <td>None</td>\n",
       "      <td>Rose</td>\n",
       "      <td>susana monaco</td>\n",
       "      <td>susana monaco</td>\n",
       "      <td>Usually ships in 2-3 business days</td>\n",
       "      <td>[False, https://www.amazon.com/reviews/iframe?...</td>\n",
       "      <td>https://images-na.ssl-images-amazon.com/images...</td>\n",
       "      <td>now</td>\n",
       "      <td>https://images-na.ssl-images-amazon.com/images...</td>\n",
       "      <td>NaN</td>\n",
       "      <td>Susana Monaco Womens Susana Monoco Sleeveless ...</td>\n",
       "      <td>None</td>\n",
       "      <td>https://images-na.ssl-images-amazon.com/images...</td>\n",
       "      <td>susana monaco</td>\n",
       "      <td>Color/pattern: rose. Approximately 23in from s...</td>\n",
       "    </tr>\n",
       "    <tr>\n",
       "      <th>183137</th>\n",
       "      <td>None</td>\n",
       "      <td>B074FTYJQC</td>\n",
       "      <td>SHIRT</td>\n",
       "      <td>None</td>\n",
       "      <td>None</td>\n",
       "      <td>None</td>\n",
       "      <td>Sexybaby</td>\n",
       "      <td>None</td>\n",
       "      <td>None</td>\n",
       "      <td>[False, https://www.amazon.com/reviews/iframe?...</td>\n",
       "      <td>https://images-na.ssl-images-amazon.com/images...</td>\n",
       "      <td>None</td>\n",
       "      <td>https://images-na.ssl-images-amazon.com/images...</td>\n",
       "      <td>NaN</td>\n",
       "      <td>SexyBaby Women's Mesh Splive Flounced Sleeve C...</td>\n",
       "      <td>None</td>\n",
       "      <td>https://images-na.ssl-images-amazon.com/images...</td>\n",
       "      <td>None</td>\n",
       "      <td>Please check the measurement chart carefully. ...</td>\n",
       "    </tr>\n",
       "  </tbody>\n",
       "</table>\n",
       "<p>183138 rows × 19 columns</p>\n",
       "</div>"
      ],
      "text/plain": [
       "         sku        asin product_type_name formatted_price author  \\\n",
       "0       None  B016I2TS4W             SHIRT            None   None   \n",
       "1       None  B01N49AI08             SHIRT            None   None   \n",
       "2       None  B01JDPCOHO             SHIRT            None   None   \n",
       "3       None  B01N19U5H5             SHIRT            None   None   \n",
       "4       None  B004GSI2OS             SHIRT          $26.26   None   \n",
       "...      ...         ...               ...             ...    ...   \n",
       "183133  None  B01MSALTSO         OUTERWEAR          $14.58   None   \n",
       "183134  None  B015W98YQK             SHIRT            None   None   \n",
       "183135  None  B075756PGC             SHIRT            None   None   \n",
       "183136  None  B074L8FVTT             SHIRT          $44.99   None   \n",
       "183137  None  B074FTYJQC             SHIRT            None   None   \n",
       "\n",
       "                    color          brand      publisher  \\\n",
       "0                    None          FNC7C           None   \n",
       "1                    None   FIG Clothing           None   \n",
       "2                    None   FIG Clothing           None   \n",
       "3                    None        Focal18           None   \n",
       "4       Onyx Black/ Stone    FeatherLite           None   \n",
       "...                   ...            ...            ...   \n",
       "183133              Black      TOOGOO(R)           None   \n",
       "183134   Monochrome Plaid     VOGUE CODE           None   \n",
       "183135               Pink       Wrangler           None   \n",
       "183136               Rose  susana monaco  susana monaco   \n",
       "183137               None       Sexybaby           None   \n",
       "\n",
       "                               availability  \\\n",
       "0                                      None   \n",
       "1                                      None   \n",
       "2                                      None   \n",
       "3                                      None   \n",
       "4       Usually ships in 6-10 business days   \n",
       "...                                     ...   \n",
       "183133   Usually ships in 1-2 business days   \n",
       "183134                                 None   \n",
       "183135                                 None   \n",
       "183136   Usually ships in 2-3 business days   \n",
       "183137                                 None   \n",
       "\n",
       "                                                  reviews  \\\n",
       "0       [False, https://www.amazon.com/reviews/iframe?...   \n",
       "1       [False, https://www.amazon.com/reviews/iframe?...   \n",
       "2       [False, https://www.amazon.com/reviews/iframe?...   \n",
       "3       [True, https://www.amazon.com/reviews/iframe?a...   \n",
       "4       [False, https://www.amazon.com/reviews/iframe?...   \n",
       "...                                                   ...   \n",
       "183133  [False, https://www.amazon.com/reviews/iframe?...   \n",
       "183134  [False, https://www.amazon.com/reviews/iframe?...   \n",
       "183135  [False, https://www.amazon.com/reviews/iframe?...   \n",
       "183136  [False, https://www.amazon.com/reviews/iframe?...   \n",
       "183137  [False, https://www.amazon.com/reviews/iframe?...   \n",
       "\n",
       "                                          large_image_url availability_type  \\\n",
       "0       https://images-na.ssl-images-amazon.com/images...              None   \n",
       "1       https://images-na.ssl-images-amazon.com/images...              None   \n",
       "2       https://images-na.ssl-images-amazon.com/images...              None   \n",
       "3       https://images-na.ssl-images-amazon.com/images...              None   \n",
       "4       https://images-na.ssl-images-amazon.com/images...               now   \n",
       "...                                                   ...               ...   \n",
       "183133  https://images-na.ssl-images-amazon.com/images...               now   \n",
       "183134  https://images-na.ssl-images-amazon.com/images...              None   \n",
       "183135  https://images-na.ssl-images-amazon.com/images...              None   \n",
       "183136  https://images-na.ssl-images-amazon.com/images...               now   \n",
       "183137  https://images-na.ssl-images-amazon.com/images...              None   \n",
       "\n",
       "                                          small_image_url  \\\n",
       "0       https://images-na.ssl-images-amazon.com/images...   \n",
       "1       https://images-na.ssl-images-amazon.com/images...   \n",
       "2       https://images-na.ssl-images-amazon.com/images...   \n",
       "3       https://images-na.ssl-images-amazon.com/images...   \n",
       "4       https://images-na.ssl-images-amazon.com/images...   \n",
       "...                                                   ...   \n",
       "183133  https://images-na.ssl-images-amazon.com/images...   \n",
       "183134  https://images-na.ssl-images-amazon.com/images...   \n",
       "183135  https://images-na.ssl-images-amazon.com/images...   \n",
       "183136  https://images-na.ssl-images-amazon.com/images...   \n",
       "183137  https://images-na.ssl-images-amazon.com/images...   \n",
       "\n",
       "                                         editorial_review  \\\n",
       "0       Minions Como Superheroes Ironman Women's O Nec...   \n",
       "1       Sizing runs on the small side. FIG® recommends...   \n",
       "2       Sizing runs on the small side. FIG® recommends...   \n",
       "3       100% Brand New & Fashion<br> Quantity: 1 Piece...   \n",
       "4                                                           \n",
       "...                                                   ...   \n",
       "183133                                                NaN   \n",
       "183134                                                NaN   \n",
       "183135                                                NaN   \n",
       "183136                                                NaN   \n",
       "183137                                                NaN   \n",
       "\n",
       "                                                    title     model  \\\n",
       "0       Minions Como Superheroes Ironman Long Sleeve R...      None   \n",
       "1                           FIG Clothing Womens Izo Tunic      None   \n",
       "2                             FIG Clothing Womens Won Top      None   \n",
       "3       Focal18 Sailor Collar Bubble Sleeve Blouse Shi...      None   \n",
       "4       Featherlite Ladies' Long Sleeve Stain Resistan...      None   \n",
       "...                                                   ...       ...   \n",
       "183133  TOOGOO(R) Women's Tops Spring Autumn Casual Pu...  089106A4   \n",
       "183134  VOGUE CODE Vintage V Neck Plaid Shirt Sleevele...      None   \n",
       "183135  Wrangler George Strait For Her Long Sleeve Pin...   LGS7089   \n",
       "183136  Susana Monaco Womens Susana Monoco Sleeveless ...      None   \n",
       "183137  SexyBaby Women's Mesh Splive Flounced Sleeve C...      None   \n",
       "\n",
       "                                         medium_image_url   manufacturer  \\\n",
       "0       https://images-na.ssl-images-amazon.com/images...           None   \n",
       "1       https://images-na.ssl-images-amazon.com/images...           None   \n",
       "2       https://images-na.ssl-images-amazon.com/images...           None   \n",
       "3       https://images-na.ssl-images-amazon.com/images...           None   \n",
       "4       https://images-na.ssl-images-amazon.com/images...           None   \n",
       "...                                                   ...            ...   \n",
       "183133  https://images-na.ssl-images-amazon.com/images...           None   \n",
       "183134  https://images-na.ssl-images-amazon.com/images...           None   \n",
       "183135  https://images-na.ssl-images-amazon.com/images...           None   \n",
       "183136  https://images-na.ssl-images-amazon.com/images...  susana monaco   \n",
       "183137  https://images-na.ssl-images-amazon.com/images...           None   \n",
       "\n",
       "                                         editorial_reivew  \n",
       "0                                                     NaN  \n",
       "1                                                     NaN  \n",
       "2                                                     NaN  \n",
       "3                                                     NaN  \n",
       "4                                                     NaN  \n",
       "...                                                   ...  \n",
       "183133  <b>* TOOGOO is a registered trademark. ONLY Au...  \n",
       "183134  SIZE CHART <p> XS for length of front 27.6\"; l...  \n",
       "183135  Pretty pink print button down Western shirt fr...  \n",
       "183136  Color/pattern: rose. Approximately 23in from s...  \n",
       "183137  Please check the measurement chart carefully. ...  \n",
       "\n",
       "[183138 rows x 19 columns]"
      ]
     },
     "execution_count": 2,
     "metadata": {},
     "output_type": "execute_result"
    }
   ],
   "source": [
    "from pprint import pprint\n",
    "data = pd.read_json('tops_fashion.json')\n",
    "print ('Nombre de data points : ', data.shape[0], \\\n",
    "       'Nombre de features/variables:', data.shape[1])\n",
    "\n",
    "pprint(data.columns)\n",
    "data"
   ]
  },
  {
   "cell_type": "markdown",
   "metadata": {},
   "source": [
    "Sur ces 19 fonctionnalités, nous n’utiliserons que 6 dans ce projet.\n",
    "<li>\n",
    "    1. asin (numéro d’identification standard Amazon)\n",
    "    2. brand (marque à laquelle le produit appartient)\n",
    "    3. color (renseignements sur la couleur des vêtements, il peut contenir plusieurs couleurs comme valeur, p. ex., rayures rouges et noires) \n",
    "    4. product_type_name (type de l’apperal, ex : SHIRT/TSHIRT )\n",
    "    5. medium_image_url  ( url de l’image )\n",
    "    6. title (titre du produit)\n",
    "    7. formated_price (prix du produit)"
   ]
  },
  {
   "cell_type": "code",
   "execution_count": 3,
   "metadata": {},
   "outputs": [
    {
     "name": "stdout",
     "output_type": "stream",
     "text": [
      "Number of data points :  183138 Number of features: 7\n"
     ]
    },
    {
     "data": {
      "text/html": [
       "<div>\n",
       "<style scoped>\n",
       "    .dataframe tbody tr th:only-of-type {\n",
       "        vertical-align: middle;\n",
       "    }\n",
       "\n",
       "    .dataframe tbody tr th {\n",
       "        vertical-align: top;\n",
       "    }\n",
       "\n",
       "    .dataframe thead th {\n",
       "        text-align: right;\n",
       "    }\n",
       "</style>\n",
       "<table border=\"1\" class=\"dataframe\">\n",
       "  <thead>\n",
       "    <tr style=\"text-align: right;\">\n",
       "      <th></th>\n",
       "      <th>asin</th>\n",
       "      <th>brand</th>\n",
       "      <th>color</th>\n",
       "      <th>medium_image_url</th>\n",
       "      <th>product_type_name</th>\n",
       "      <th>title</th>\n",
       "      <th>formatted_price</th>\n",
       "    </tr>\n",
       "  </thead>\n",
       "  <tbody>\n",
       "    <tr>\n",
       "      <th>0</th>\n",
       "      <td>B016I2TS4W</td>\n",
       "      <td>FNC7C</td>\n",
       "      <td>None</td>\n",
       "      <td>https://images-na.ssl-images-amazon.com/images...</td>\n",
       "      <td>SHIRT</td>\n",
       "      <td>Minions Como Superheroes Ironman Long Sleeve R...</td>\n",
       "      <td>None</td>\n",
       "    </tr>\n",
       "    <tr>\n",
       "      <th>1</th>\n",
       "      <td>B01N49AI08</td>\n",
       "      <td>FIG Clothing</td>\n",
       "      <td>None</td>\n",
       "      <td>https://images-na.ssl-images-amazon.com/images...</td>\n",
       "      <td>SHIRT</td>\n",
       "      <td>FIG Clothing Womens Izo Tunic</td>\n",
       "      <td>None</td>\n",
       "    </tr>\n",
       "    <tr>\n",
       "      <th>2</th>\n",
       "      <td>B01JDPCOHO</td>\n",
       "      <td>FIG Clothing</td>\n",
       "      <td>None</td>\n",
       "      <td>https://images-na.ssl-images-amazon.com/images...</td>\n",
       "      <td>SHIRT</td>\n",
       "      <td>FIG Clothing Womens Won Top</td>\n",
       "      <td>None</td>\n",
       "    </tr>\n",
       "    <tr>\n",
       "      <th>3</th>\n",
       "      <td>B01N19U5H5</td>\n",
       "      <td>Focal18</td>\n",
       "      <td>None</td>\n",
       "      <td>https://images-na.ssl-images-amazon.com/images...</td>\n",
       "      <td>SHIRT</td>\n",
       "      <td>Focal18 Sailor Collar Bubble Sleeve Blouse Shi...</td>\n",
       "      <td>None</td>\n",
       "    </tr>\n",
       "    <tr>\n",
       "      <th>4</th>\n",
       "      <td>B004GSI2OS</td>\n",
       "      <td>FeatherLite</td>\n",
       "      <td>Onyx Black/ Stone</td>\n",
       "      <td>https://images-na.ssl-images-amazon.com/images...</td>\n",
       "      <td>SHIRT</td>\n",
       "      <td>Featherlite Ladies' Long Sleeve Stain Resistan...</td>\n",
       "      <td>$26.26</td>\n",
       "    </tr>\n",
       "  </tbody>\n",
       "</table>\n",
       "</div>"
      ],
      "text/plain": [
       "         asin         brand              color  \\\n",
       "0  B016I2TS4W         FNC7C               None   \n",
       "1  B01N49AI08  FIG Clothing               None   \n",
       "2  B01JDPCOHO  FIG Clothing               None   \n",
       "3  B01N19U5H5       Focal18               None   \n",
       "4  B004GSI2OS   FeatherLite  Onyx Black/ Stone   \n",
       "\n",
       "                                    medium_image_url product_type_name  \\\n",
       "0  https://images-na.ssl-images-amazon.com/images...             SHIRT   \n",
       "1  https://images-na.ssl-images-amazon.com/images...             SHIRT   \n",
       "2  https://images-na.ssl-images-amazon.com/images...             SHIRT   \n",
       "3  https://images-na.ssl-images-amazon.com/images...             SHIRT   \n",
       "4  https://images-na.ssl-images-amazon.com/images...             SHIRT   \n",
       "\n",
       "                                               title formatted_price  \n",
       "0  Minions Como Superheroes Ironman Long Sleeve R...            None  \n",
       "1                      FIG Clothing Womens Izo Tunic            None  \n",
       "2                        FIG Clothing Womens Won Top            None  \n",
       "3  Focal18 Sailor Collar Bubble Sleeve Blouse Shi...            None  \n",
       "4  Featherlite Ladies' Long Sleeve Stain Resistan...          $26.26  "
      ]
     },
     "execution_count": 3,
     "metadata": {},
     "output_type": "execute_result"
    }
   ],
   "source": [
    "data = data[['asin', 'brand', 'color', 'medium_image_url', 'product_type_name', 'title', 'formatted_price']]\n",
    "print ('Number of data points : ', data.shape[0], \\\n",
    "       'Number of features:', data.shape[1])\n",
    "data.head()"
   ]
  },
  {
   "cell_type": "markdown",
   "metadata": {},
   "source": [
    "# Data pre-processing"
   ]
  },
  {
   "cell_type": "markdown",
   "metadata": {},
   "source": [
    "### Deleting null values"
   ]
  },
  {
   "cell_type": "code",
   "execution_count": 4,
   "metadata": {},
   "outputs": [
    {
     "name": "stdout",
     "output_type": "stream",
     "text": [
      "Number of data points After eliminating price=NULL : 28395\n",
      "Number of data points After eliminating color=NULL : 28385\n"
     ]
    }
   ],
   "source": [
    "data = data.loc[~data['formatted_price'].isnull()]\n",
    "print('Number of data points After eliminating price=NULL :', data.shape[0])\n",
    "\n",
    "data =data.loc[~data['color'].isnull()]\n",
    "print('Number of data points After eliminating color=NULL :', data.shape[0])\n"
   ]
  },
  {
   "cell_type": "markdown",
   "metadata": {},
   "source": [
    "### Remove products with brief description"
   ]
  },
  {
   "cell_type": "code",
   "execution_count": 6,
   "metadata": {},
   "outputs": [
    {
     "name": "stdout",
     "output_type": "stream",
     "text": [
      "After removal of products with short description: 27949\n"
     ]
    }
   ],
   "source": [
    "# Remove All products with very few words in title\n",
    "data_sorted = data[data['title'].apply(lambda x: len(x.split())>4)]\n",
    "print(\"After removal of products with short description:\", data_sorted.shape[0])"
   ]
  },
  {
   "cell_type": "markdown",
   "metadata": {},
   "source": [
    "### Removing products with dual titles per sort \n",
    "\n",
    "<pre>\n",
    "Titles 1:\n",
    "16. woman's place is in the house and the senate shirts for Womens XXL White\n",
    "17. woman's place is in the house and the senate shirts for Womens M Grey\n",
    "\n",
    "Title 2:\n",
    "25. tokidoki The Queen of Diamonds Women's Shirt X-Large\n",
    "26. tokidoki The Queen of Diamonds Women's Shirt Small\n",
    "27. tokidoki The Queen of Diamonds Women's Shirt Large\n",
    "\n",
    "Title 3:\n",
    "61. psychedelic colorful Howling Galaxy Wolf T-shirt/Colorful Rainbow Animal Print Head Shirt for woman Neon Wolf t-shirt\n",
    "62. psychedelic colorful Howling Galaxy Wolf T-shirt/Colorful Rainbow Animal Print Head Shirt for woman Neon Wolf t-shirt\n",
    "63. psychedelic colorful Howling Galaxy Wolf T-shirt/Colorful Rainbow Animal Print Head Shirt for woman Neon Wolf t-shirt\n",
    "64. psychedelic colorful Howling Galaxy Wolf T-shirt/Colorful Rainbow Animal Print Head Shirt for woman Neon Wolf t-shirt\n",
    "</pre>"
   ]
  },
  {
   "cell_type": "code",
   "execution_count": 7,
   "metadata": {},
   "outputs": [
    {
     "name": "stdout",
     "output_type": "stream",
     "text": [
      "The number of entries with duplicate title is 2325\n",
      "Number of data points now is:  17593\n"
     ]
    }
   ],
   "source": [
    "\n",
    "print('The number of entries with duplicate title is %d'%sum(data.duplicated('title')))\n",
    "# Sort the whole data based on title (alphabetical order of title) \n",
    "data_sorted.sort_values('title',inplace=True, ascending=False)\n",
    "\n",
    "indices = []\n",
    "for i,row in data_sorted.iterrows():\n",
    "    indices.append(i)\n",
    "import itertools\n",
    "stage1_dedupe_asins = []\n",
    "i = 0\n",
    "j = 0\n",
    "num_data_points = data_sorted.shape[0]\n",
    "while i < num_data_points and j < num_data_points:    \n",
    "    previous_i = i\n",
    "    # store the list of words of ith string in a, ex: a = ['tokidoki', 'The', 'Queen', 'of', 'Diamonds', 'Women's', 'Shirt', 'X-Large']\n",
    "    a = data['title'].loc[indices[i]].split()\n",
    "    # search for the similar products sequentially \n",
    "    j = i+1\n",
    "    while j < num_data_points:\n",
    "        # store the list of words of jth string in b, ex: b = ['tokidoki', 'The', 'Queen', 'of', 'Diamonds', 'Women's', 'Shirt', 'Small']\n",
    "        b = data['title'].loc[indices[j]].split()\n",
    "        # store the maximum length of two strings\n",
    "        length = max(len(a), len(b))\n",
    "        # count is used to store the number of words that are matched in both strings\n",
    "        count  = 0\n",
    "        # itertools.zip_longest(a,b): will map the corresponding words in both strings, it will appened None in case of unequal strings\n",
    "        # example: a =['a', 'b', 'c', 'd']\n",
    "        # b = ['a', 'b', 'd']\n",
    "        # itertools.zip_longest(a,b): will give [('a','a'), ('b','b'), ('c','d'), ('d', None)]\n",
    "        for k in itertools.zip_longest(a,b): \n",
    "            if (k[0] == k[1]):\n",
    "                count += 1\n",
    "        # if the number of words in which both strings differ are > 2 , we are considering it as those two apperals are different\n",
    "        # if the number of words in which both strings differ are < 2 , we are considering it as those two apperals are same, hence we are ignoring them\n",
    "        if (length - count) > 2: # number of words in which both sensences differ\n",
    "            # if both strings are differ by more than 2 words we include the 1st string index\n",
    "            stage1_dedupe_asins.append(data_sorted['asin'].loc[indices[i]])\n",
    "            # if the comaprision between is between num_data_points, num_data_points-1 strings and they differ in more than 2 words we include both\n",
    "            if j == num_data_points-1: stage1_dedupe_asins.append(data_sorted['asin'].loc[indices[j]])\n",
    "            # start searching for similar apperals corresponds 2nd string\n",
    "            i = j\n",
    "            break\n",
    "        else:\n",
    "            j += 1\n",
    "    if previous_i == i:\n",
    "        break\n",
    "\n",
    "data = data.loc[data['asin'].isin(stage1_dedupe_asins)]\n",
    "print('Number of data points now is: ', data.shape[0])"
   ]
  },
  {
   "cell_type": "markdown",
   "metadata": {},
   "source": [
    "<pre>\n",
    "\n",
    "In the previous cell, we sorted whole data in alphabetical order of  titles.Then, we removed titles which are adjacent and very similar title\n",
    "\n",
    "But there are some products whose titles are not adjacent but very similar.\n",
    "\n",
    "Examples:\n",
    "\n",
    "Titles-1\n",
    "86261.  UltraClub Women's Classic Wrinkle-Free Long Sleeve Oxford Shirt, Pink, XX-Large\n",
    "115042. UltraClub Ladies Classic Wrinkle-Free Long-Sleeve Oxford Light Blue XXL\n",
    "\n",
    "TItles-2\n",
    "75004.  EVALY Women's Cool University Of UTAH 3/4 Sleeve Raglan Tee\n",
    "109225. EVALY Women's Unique University Of UTAH 3/4 Sleeve Raglan Tees\n",
    "120832. EVALY Women's New University Of UTAH 3/4-Sleeve Raglan Tshirt\n",
    "\n",
    "</pre>"
   ]
  },
  {
   "cell_type": "markdown",
   "metadata": {},
   "source": [
    "# Text Preprocessing"
   ]
  },
  {
   "cell_type": "code",
   "execution_count": 8,
   "metadata": {},
   "outputs": [
    {
     "name": "stdout",
     "output_type": "stream",
     "text": [
      "list of stop words: {'will', 'been', 'wasn', 'because', 'nor', 'then', 'down', 'were', 'above', \"isn't\", 'being', 'it', 'you', \"hadn't\", 'wouldn', 'o', 'which', 'hers', \"wouldn't\", \"haven't\", 'out', \"don't\", 'up', 'hadn', \"hasn't\", 'him', 'than', 'and', 'between', 'my', 'do', 'they', \"should've\", 'mustn', 'i', 'here', \"weren't\", \"you're\", \"wasn't\", 'her', 'too', 'all', 'haven', 'just', 'more', \"needn't\", 'had', 'while', 'yourself', 'a', 'doesn', 'me', 'until', \"that'll\", 'before', 'its', \"mightn't\", 'is', 'but', 'ours', \"it's\", \"you'll\", 'shouldn', 'off', \"aren't\", 'm', 'over', 'any', 's', 'against', \"you've\", 'other', 'there', \"couldn't\", 'to', 'only', 'so', 'about', 'themselves', 'at', 'when', 'your', 'if', 'through', 'shan', 'few', 've', 'ain', 'some', 'does', 'ourselves', 'no', 'who', \"you'd\", 'did', 'isn', 'after', 'them', 'am', 'theirs', 'their', 'same', 'be', 'herself', 'by', 'both', 'these', 'we', 'where', 'this', 'those', 'ma', 'myself', 'was', 'didn', 'with', 'are', 'our', 'the', 'again', \"didn't\", \"shan't\", 'during', \"mustn't\", 'should', 'for', \"won't\", 'under', 'yourselves', 'weren', 'hasn', 'an', 'yours', 'have', 'now', 'below', 'of', \"shouldn't\", 'doing', 'how', 'd', 'his', 'aren', 'very', 'couldn', 't', 'y', 're', 'she', 'further', 'into', 'has', 'each', 'own', 'not', 'what', 'he', 'having', 'needn', 'or', 'on', 'most', 'as', 'don', \"she's\", 'himself', 'whom', 'in', 'once', 'can', 'won', \"doesn't\", 'itself', 'from', 'why', 'such', 'mightn', 'that', 'll'}\n"
     ]
    }
   ],
   "source": [
    "\n",
    "# we use the list of stop words that are downloaded from nltk lib.\n",
    "stop_words = set(stopwords.words('english'))\n",
    "print ('list of stop words:', stop_words)\n",
    "\n",
    "def nlp_preprocessing(total_text, index, column):\n",
    "    if type(total_text) is not int:\n",
    "        string = \"\"\n",
    "        for words in total_text.split():\n",
    "            # remove the special chars in review like '\"#$@!%^&*()_+-~?>< etc.\n",
    "            word = (\"\".join(e for e in words if e.isalnum()))\n",
    "            # Conver all letters to lower-case\n",
    "            word = word.lower()\n",
    "            # stop-word removal\n",
    "            if not word in stop_words:\n",
    "                string += word + \" \"\n",
    "        data[column][index] = string"
   ]
  },
  {
   "cell_type": "code",
   "execution_count": 9,
   "metadata": {},
   "outputs": [
    {
     "data": {
      "text/html": [
       "<div>\n",
       "<style scoped>\n",
       "    .dataframe tbody tr th:only-of-type {\n",
       "        vertical-align: middle;\n",
       "    }\n",
       "\n",
       "    .dataframe tbody tr th {\n",
       "        vertical-align: top;\n",
       "    }\n",
       "\n",
       "    .dataframe thead th {\n",
       "        text-align: right;\n",
       "    }\n",
       "</style>\n",
       "<table border=\"1\" class=\"dataframe\">\n",
       "  <thead>\n",
       "    <tr style=\"text-align: right;\">\n",
       "      <th></th>\n",
       "      <th>asin</th>\n",
       "      <th>brand</th>\n",
       "      <th>color</th>\n",
       "      <th>medium_image_url</th>\n",
       "      <th>product_type_name</th>\n",
       "      <th>title</th>\n",
       "      <th>formatted_price</th>\n",
       "    </tr>\n",
       "  </thead>\n",
       "  <tbody>\n",
       "    <tr>\n",
       "      <th>4</th>\n",
       "      <td>B004GSI2OS</td>\n",
       "      <td>FeatherLite</td>\n",
       "      <td>Onyx Black/ Stone</td>\n",
       "      <td>https://images-na.ssl-images-amazon.com/images...</td>\n",
       "      <td>SHIRT</td>\n",
       "      <td>Featherlite Ladies' Long Sleeve Stain Resistan...</td>\n",
       "      <td>$26.26</td>\n",
       "    </tr>\n",
       "    <tr>\n",
       "      <th>6</th>\n",
       "      <td>B012YX2ZPI</td>\n",
       "      <td>HX-Kingdom Fashion T-shirts</td>\n",
       "      <td>White</td>\n",
       "      <td>https://images-na.ssl-images-amazon.com/images...</td>\n",
       "      <td>SHIRT</td>\n",
       "      <td>Women's Unique 100% Cotton T - Special Olympic...</td>\n",
       "      <td>$9.99</td>\n",
       "    </tr>\n",
       "    <tr>\n",
       "      <th>15</th>\n",
       "      <td>B003BSRPB0</td>\n",
       "      <td>FeatherLite</td>\n",
       "      <td>White</td>\n",
       "      <td>https://images-na.ssl-images-amazon.com/images...</td>\n",
       "      <td>SHIRT</td>\n",
       "      <td>FeatherLite Ladies' Moisture Free Mesh Sport S...</td>\n",
       "      <td>$20.54</td>\n",
       "    </tr>\n",
       "    <tr>\n",
       "      <th>27</th>\n",
       "      <td>B014ICEJ1Q</td>\n",
       "      <td>FNC7C</td>\n",
       "      <td>Purple</td>\n",
       "      <td>https://images-na.ssl-images-amazon.com/images...</td>\n",
       "      <td>SHIRT</td>\n",
       "      <td>Supernatural Chibis Sam Dean And Castiel O Nec...</td>\n",
       "      <td>$7.39</td>\n",
       "    </tr>\n",
       "    <tr>\n",
       "      <th>43</th>\n",
       "      <td>B0079BMKDS</td>\n",
       "      <td>FeatherLite</td>\n",
       "      <td>White</td>\n",
       "      <td>https://images-na.ssl-images-amazon.com/images...</td>\n",
       "      <td>APPAREL</td>\n",
       "      <td>Featherlite Ladies' Silky Smooth Pique (White)...</td>\n",
       "      <td>$13.53</td>\n",
       "    </tr>\n",
       "  </tbody>\n",
       "</table>\n",
       "</div>"
      ],
      "text/plain": [
       "          asin                        brand              color  \\\n",
       "4   B004GSI2OS                  FeatherLite  Onyx Black/ Stone   \n",
       "6   B012YX2ZPI  HX-Kingdom Fashion T-shirts              White   \n",
       "15  B003BSRPB0                  FeatherLite              White   \n",
       "27  B014ICEJ1Q                        FNC7C             Purple   \n",
       "43  B0079BMKDS                  FeatherLite              White   \n",
       "\n",
       "                                     medium_image_url product_type_name  \\\n",
       "4   https://images-na.ssl-images-amazon.com/images...             SHIRT   \n",
       "6   https://images-na.ssl-images-amazon.com/images...             SHIRT   \n",
       "15  https://images-na.ssl-images-amazon.com/images...             SHIRT   \n",
       "27  https://images-na.ssl-images-amazon.com/images...             SHIRT   \n",
       "43  https://images-na.ssl-images-amazon.com/images...           APPAREL   \n",
       "\n",
       "                                                title formatted_price  \n",
       "4   Featherlite Ladies' Long Sleeve Stain Resistan...          $26.26  \n",
       "6   Women's Unique 100% Cotton T - Special Olympic...           $9.99  \n",
       "15  FeatherLite Ladies' Moisture Free Mesh Sport S...          $20.54  \n",
       "27  Supernatural Chibis Sam Dean And Castiel O Nec...           $7.39  \n",
       "43  Featherlite Ladies' Silky Smooth Pique (White)...          $13.53  "
      ]
     },
     "execution_count": 9,
     "metadata": {},
     "output_type": "execute_result"
    }
   ],
   "source": [
    "data.head()"
   ]
  },
  {
   "cell_type": "code",
   "execution_count": 10,
   "metadata": {},
   "outputs": [],
   "source": [
    "data[\"digital\"]=False"
   ]
  },
  {
   "cell_type": "code",
   "execution_count": 11,
   "metadata": {},
   "outputs": [],
   "source": [
    "data['digital'] = data['digital'].astype('bool')"
   ]
  },
  {
   "cell_type": "code",
   "execution_count": 12,
   "metadata": {},
   "outputs": [],
   "source": [
    "data['formatted_price']=data['formatted_price'].apply(lambda x: x.replace('$',''))"
   ]
  },
  {
   "cell_type": "code",
   "execution_count": 13,
   "metadata": {},
   "outputs": [],
   "source": [
    "import sys\n",
    "np.set_printoptions(threshold=sys.maxsize)"
   ]
  },
  {
   "cell_type": "code",
   "execution_count": 14,
   "metadata": {},
   "outputs": [],
   "source": [
    "data.drop(data.loc[data['formatted_price']=='1,129.99'].index, inplace=True)"
   ]
  },
  {
   "cell_type": "code",
   "execution_count": 15,
   "metadata": {},
   "outputs": [],
   "source": [
    "data.drop(data.loc[data['formatted_price']==\"Too low to display\"].index, inplace=True)"
   ]
  },
  {
   "cell_type": "code",
   "execution_count": 16,
   "metadata": {},
   "outputs": [],
   "source": [
    "data['formatted_price'] = data['formatted_price'].astype('float')"
   ]
  },
  {
   "cell_type": "code",
   "execution_count": 17,
   "metadata": {},
   "outputs": [],
   "source": [
    "data[\"color\"] = data[\"color\"].str.lower()"
   ]
  },
  {
   "cell_type": "code",
   "execution_count": 18,
   "metadata": {},
   "outputs": [
    {
     "data": {
      "text/html": [
       "<div>\n",
       "<style scoped>\n",
       "    .dataframe tbody tr th:only-of-type {\n",
       "        vertical-align: middle;\n",
       "    }\n",
       "\n",
       "    .dataframe tbody tr th {\n",
       "        vertical-align: top;\n",
       "    }\n",
       "\n",
       "    .dataframe thead th {\n",
       "        text-align: right;\n",
       "    }\n",
       "</style>\n",
       "<table border=\"1\" class=\"dataframe\">\n",
       "  <thead>\n",
       "    <tr style=\"text-align: right;\">\n",
       "      <th></th>\n",
       "      <th>asin</th>\n",
       "      <th>brand</th>\n",
       "      <th>color</th>\n",
       "      <th>medium_image_url</th>\n",
       "      <th>product_type_name</th>\n",
       "      <th>title</th>\n",
       "      <th>formatted_price</th>\n",
       "      <th>digital</th>\n",
       "    </tr>\n",
       "  </thead>\n",
       "  <tbody>\n",
       "    <tr>\n",
       "      <th>4</th>\n",
       "      <td>B004GSI2OS</td>\n",
       "      <td>FeatherLite</td>\n",
       "      <td>onyx black/ stone</td>\n",
       "      <td>https://images-na.ssl-images-amazon.com/images...</td>\n",
       "      <td>SHIRT</td>\n",
       "      <td>Featherlite Ladies' Long Sleeve Stain Resistan...</td>\n",
       "      <td>26.26</td>\n",
       "      <td>False</td>\n",
       "    </tr>\n",
       "    <tr>\n",
       "      <th>6</th>\n",
       "      <td>B012YX2ZPI</td>\n",
       "      <td>HX-Kingdom Fashion T-shirts</td>\n",
       "      <td>white</td>\n",
       "      <td>https://images-na.ssl-images-amazon.com/images...</td>\n",
       "      <td>SHIRT</td>\n",
       "      <td>Women's Unique 100% Cotton T - Special Olympic...</td>\n",
       "      <td>9.99</td>\n",
       "      <td>False</td>\n",
       "    </tr>\n",
       "    <tr>\n",
       "      <th>15</th>\n",
       "      <td>B003BSRPB0</td>\n",
       "      <td>FeatherLite</td>\n",
       "      <td>white</td>\n",
       "      <td>https://images-na.ssl-images-amazon.com/images...</td>\n",
       "      <td>SHIRT</td>\n",
       "      <td>FeatherLite Ladies' Moisture Free Mesh Sport S...</td>\n",
       "      <td>20.54</td>\n",
       "      <td>False</td>\n",
       "    </tr>\n",
       "    <tr>\n",
       "      <th>27</th>\n",
       "      <td>B014ICEJ1Q</td>\n",
       "      <td>FNC7C</td>\n",
       "      <td>purple</td>\n",
       "      <td>https://images-na.ssl-images-amazon.com/images...</td>\n",
       "      <td>SHIRT</td>\n",
       "      <td>Supernatural Chibis Sam Dean And Castiel O Nec...</td>\n",
       "      <td>7.39</td>\n",
       "      <td>False</td>\n",
       "    </tr>\n",
       "    <tr>\n",
       "      <th>43</th>\n",
       "      <td>B0079BMKDS</td>\n",
       "      <td>FeatherLite</td>\n",
       "      <td>white</td>\n",
       "      <td>https://images-na.ssl-images-amazon.com/images...</td>\n",
       "      <td>APPAREL</td>\n",
       "      <td>Featherlite Ladies' Silky Smooth Pique (White)...</td>\n",
       "      <td>13.53</td>\n",
       "      <td>False</td>\n",
       "    </tr>\n",
       "  </tbody>\n",
       "</table>\n",
       "</div>"
      ],
      "text/plain": [
       "          asin                        brand              color  \\\n",
       "4   B004GSI2OS                  FeatherLite  onyx black/ stone   \n",
       "6   B012YX2ZPI  HX-Kingdom Fashion T-shirts              white   \n",
       "15  B003BSRPB0                  FeatherLite              white   \n",
       "27  B014ICEJ1Q                        FNC7C             purple   \n",
       "43  B0079BMKDS                  FeatherLite              white   \n",
       "\n",
       "                                     medium_image_url product_type_name  \\\n",
       "4   https://images-na.ssl-images-amazon.com/images...             SHIRT   \n",
       "6   https://images-na.ssl-images-amazon.com/images...             SHIRT   \n",
       "15  https://images-na.ssl-images-amazon.com/images...             SHIRT   \n",
       "27  https://images-na.ssl-images-amazon.com/images...             SHIRT   \n",
       "43  https://images-na.ssl-images-amazon.com/images...           APPAREL   \n",
       "\n",
       "                                                title  formatted_price  \\\n",
       "4   Featherlite Ladies' Long Sleeve Stain Resistan...            26.26   \n",
       "6   Women's Unique 100% Cotton T - Special Olympic...             9.99   \n",
       "15  FeatherLite Ladies' Moisture Free Mesh Sport S...            20.54   \n",
       "27  Supernatural Chibis Sam Dean And Castiel O Nec...             7.39   \n",
       "43  Featherlite Ladies' Silky Smooth Pique (White)...            13.53   \n",
       "\n",
       "    digital  \n",
       "4     False  \n",
       "6     False  \n",
       "15    False  \n",
       "27    False  \n",
       "43    False  "
      ]
     },
     "execution_count": 18,
     "metadata": {},
     "output_type": "execute_result"
    }
   ],
   "source": [
    "data.head()"
   ]
  },
  {
   "cell_type": "code",
   "execution_count": 3,
   "metadata": {},
   "outputs": [],
   "source": [
    "#Adding gender column with Regex from title column \n",
    "def replace_gender(m):\n",
    "    gender_men=[\"men\",\"boy\",\"man\",\"guy\"]\n",
    "    match = [re.findall(c, m) for c in gender_men]\n",
    "    match = list(filter(None, match))\n",
    "    match = np.squeeze(np.array(match))\n",
    "    match = np.squeeze(np.array(match))\n",
    "    if match.size>0:    \n",
    "        try:\n",
    "            match = \",\".join(match)\n",
    "        except:\n",
    "            return \"men\"\n",
    "        finally:\n",
    "            return \"men\"\n",
    "    elif match.size==0:\n",
    "        gender_women=[\"women\",\"girl\",\"ladi\",\"lady\"]\n",
    "        match = [re.findall(c, m) for c in gender_women]\n",
    "        match = list(filter(None, match))\n",
    "        match = np.squeeze(np.array(match))\n",
    "        match = np.squeeze(np.array(match))\n",
    "        try:\n",
    "            match = \",\".join(match)\n",
    "        except:\n",
    "            return \"women\"\n",
    "        finally:\n",
    "            return \"women\"\n",
    "    else:\n",
    "        return \"Unisex\""
   ]
  },
  {
   "cell_type": "code",
   "execution_count": 4,
   "metadata": {},
   "outputs": [],
   "source": [
    "#Unity of colors with Regex \n",
    "def replace_colors(m):\n",
    "    colors=[\"red\", \"grey\",\"natural\",\"multicol\",\"red orange\", \"orange\", \"yellow\",\"yellow green\", \"green\", \"sky blue\", \"blue\", \"violet\", \"brown\", \"black\",\"purple\",\"Berry\",'Beige', \"white\", \"gray\", \"magenta\", \"pink\", \"light blue\", \"aqua green\", \"jade green\", \"peach\", \"golden\", 'navy',\"yellow\", \"yellow orange\", \"mahogany\", \"tan\" , \"light brown\"]\n",
    "    match = [re.findall(c, m) for c in colors]\n",
    "    match = list(filter(None, match))\n",
    "    match = np.squeeze(np.array(match))\n",
    "    match = np.squeeze(np.array(match))\n",
    "    if match.size>0:    \n",
    "        try:\n",
    "            match = \",\".join(match)\n",
    "        except:\n",
    "            return match\n",
    "        finally:\n",
    "            return match\n",
    "    else:\n",
    "        match = random.choice(colors)\n",
    "        return match"
   ]
  },
  {
   "cell_type": "code",
   "execution_count": 24,
   "metadata": {},
   "outputs": [],
   "source": [
    "data[\"color\"] = data[\"color\"].apply(lambda x: replace_colors(x))"
   ]
  },
  {
   "cell_type": "code",
   "execution_count": 25,
   "metadata": {},
   "outputs": [
    {
     "name": "stdout",
     "output_type": "stream",
     "text": [
      "16.558417797088623 seconds\n"
     ]
    }
   ],
   "source": [
    "start_time = time.time()\n",
    "# we take each title and we text-preprocess it.\n",
    "for index, row in data.iterrows():\n",
    "    nlp_preprocessing(row['title'], index, 'title')\n",
    "# we print the time it took to preprocess whole titles \n",
    "print(time.time() - start_time, \"seconds\")\n",
    "\n"
   ]
  },
  {
   "cell_type": "code",
   "execution_count": 26,
   "metadata": {},
   "outputs": [],
   "source": [
    "data['brand'] = data['brand'].astype(str)"
   ]
  },
  {
   "cell_type": "code",
   "execution_count": 27,
   "metadata": {},
   "outputs": [],
   "source": [
    "data.drop(data.loc[data['brand']==\"None\"].index, inplace=True)"
   ]
  },
  {
   "cell_type": "code",
   "execution_count": 28,
   "metadata": {},
   "outputs": [
    {
     "name": "stdout",
     "output_type": "stream",
     "text": [
      "17.81676411628723 seconds\n"
     ]
    },
    {
     "data": {
      "text/html": [
       "<div>\n",
       "<style scoped>\n",
       "    .dataframe tbody tr th:only-of-type {\n",
       "        vertical-align: middle;\n",
       "    }\n",
       "\n",
       "    .dataframe tbody tr th {\n",
       "        vertical-align: top;\n",
       "    }\n",
       "\n",
       "    .dataframe thead th {\n",
       "        text-align: right;\n",
       "    }\n",
       "</style>\n",
       "<table border=\"1\" class=\"dataframe\">\n",
       "  <thead>\n",
       "    <tr style=\"text-align: right;\">\n",
       "      <th></th>\n",
       "      <th>asin</th>\n",
       "      <th>brand</th>\n",
       "      <th>color</th>\n",
       "      <th>medium_image_url</th>\n",
       "      <th>product_type_name</th>\n",
       "      <th>title</th>\n",
       "      <th>formatted_price</th>\n",
       "      <th>digital</th>\n",
       "    </tr>\n",
       "  </thead>\n",
       "  <tbody>\n",
       "    <tr>\n",
       "      <th>4</th>\n",
       "      <td>B004GSI2OS</td>\n",
       "      <td>featherlite</td>\n",
       "      <td>black</td>\n",
       "      <td>https://images-na.ssl-images-amazon.com/images...</td>\n",
       "      <td>SHIRT</td>\n",
       "      <td>featherlite ladies long sleeve stain resistant...</td>\n",
       "      <td>26.26</td>\n",
       "      <td>False</td>\n",
       "    </tr>\n",
       "    <tr>\n",
       "      <th>6</th>\n",
       "      <td>B012YX2ZPI</td>\n",
       "      <td>hxkingdom fashion tshirts</td>\n",
       "      <td>white</td>\n",
       "      <td>https://images-na.ssl-images-amazon.com/images...</td>\n",
       "      <td>SHIRT</td>\n",
       "      <td>womens unique 100 cotton  special olympics wor...</td>\n",
       "      <td>9.99</td>\n",
       "      <td>False</td>\n",
       "    </tr>\n",
       "    <tr>\n",
       "      <th>15</th>\n",
       "      <td>B003BSRPB0</td>\n",
       "      <td>featherlite</td>\n",
       "      <td>white</td>\n",
       "      <td>https://images-na.ssl-images-amazon.com/images...</td>\n",
       "      <td>SHIRT</td>\n",
       "      <td>featherlite ladies moisture free mesh sport sh...</td>\n",
       "      <td>20.54</td>\n",
       "      <td>False</td>\n",
       "    </tr>\n",
       "    <tr>\n",
       "      <th>27</th>\n",
       "      <td>B014ICEJ1Q</td>\n",
       "      <td>fnc7c</td>\n",
       "      <td>purple</td>\n",
       "      <td>https://images-na.ssl-images-amazon.com/images...</td>\n",
       "      <td>SHIRT</td>\n",
       "      <td>supernatural chibis sam dean castiel neck tshi...</td>\n",
       "      <td>7.39</td>\n",
       "      <td>False</td>\n",
       "    </tr>\n",
       "    <tr>\n",
       "      <th>43</th>\n",
       "      <td>B0079BMKDS</td>\n",
       "      <td>featherlite</td>\n",
       "      <td>white</td>\n",
       "      <td>https://images-na.ssl-images-amazon.com/images...</td>\n",
       "      <td>APPAREL</td>\n",
       "      <td>featherlite ladies silky smooth pique white xl</td>\n",
       "      <td>13.53</td>\n",
       "      <td>False</td>\n",
       "    </tr>\n",
       "  </tbody>\n",
       "</table>\n",
       "</div>"
      ],
      "text/plain": [
       "          asin                       brand   color  \\\n",
       "4   B004GSI2OS                featherlite    black   \n",
       "6   B012YX2ZPI  hxkingdom fashion tshirts    white   \n",
       "15  B003BSRPB0                featherlite    white   \n",
       "27  B014ICEJ1Q                      fnc7c   purple   \n",
       "43  B0079BMKDS                featherlite    white   \n",
       "\n",
       "                                     medium_image_url product_type_name  \\\n",
       "4   https://images-na.ssl-images-amazon.com/images...             SHIRT   \n",
       "6   https://images-na.ssl-images-amazon.com/images...             SHIRT   \n",
       "15  https://images-na.ssl-images-amazon.com/images...             SHIRT   \n",
       "27  https://images-na.ssl-images-amazon.com/images...             SHIRT   \n",
       "43  https://images-na.ssl-images-amazon.com/images...           APPAREL   \n",
       "\n",
       "                                                title  formatted_price  \\\n",
       "4   featherlite ladies long sleeve stain resistant...            26.26   \n",
       "6   womens unique 100 cotton  special olympics wor...             9.99   \n",
       "15  featherlite ladies moisture free mesh sport sh...            20.54   \n",
       "27  supernatural chibis sam dean castiel neck tshi...             7.39   \n",
       "43    featherlite ladies silky smooth pique white xl             13.53   \n",
       "\n",
       "    digital  \n",
       "4     False  \n",
       "6     False  \n",
       "15    False  \n",
       "27    False  \n",
       "43    False  "
      ]
     },
     "execution_count": 28,
     "metadata": {},
     "output_type": "execute_result"
    }
   ],
   "source": [
    "start_time = time.time()\n",
    "# we take each title and we text-preprocess it.\n",
    "for index, row in data.iterrows():\n",
    "    nlp_preprocessing(row['brand'], index, 'brand')\n",
    "# we print the time it took to preprocess whole titles \n",
    "print(time.time() - start_time, \"seconds\")\n",
    "\n",
    "data.head()\n"
   ]
  },
  {
   "cell_type": "code",
   "execution_count": 29,
   "metadata": {},
   "outputs": [],
   "source": [
    "data.reset_index(inplace=True)"
   ]
  },
  {
   "cell_type": "code",
   "execution_count": 30,
   "metadata": {},
   "outputs": [
    {
     "data": {
      "text/html": [
       "<div>\n",
       "<style scoped>\n",
       "    .dataframe tbody tr th:only-of-type {\n",
       "        vertical-align: middle;\n",
       "    }\n",
       "\n",
       "    .dataframe tbody tr th {\n",
       "        vertical-align: top;\n",
       "    }\n",
       "\n",
       "    .dataframe thead th {\n",
       "        text-align: right;\n",
       "    }\n",
       "</style>\n",
       "<table border=\"1\" class=\"dataframe\">\n",
       "  <thead>\n",
       "    <tr style=\"text-align: right;\">\n",
       "      <th></th>\n",
       "      <th>index</th>\n",
       "      <th>asin</th>\n",
       "      <th>brand</th>\n",
       "      <th>color</th>\n",
       "      <th>medium_image_url</th>\n",
       "      <th>product_type_name</th>\n",
       "      <th>title</th>\n",
       "      <th>formatted_price</th>\n",
       "      <th>digital</th>\n",
       "    </tr>\n",
       "  </thead>\n",
       "  <tbody>\n",
       "    <tr>\n",
       "      <th>0</th>\n",
       "      <td>4</td>\n",
       "      <td>B004GSI2OS</td>\n",
       "      <td>featherlite</td>\n",
       "      <td>black</td>\n",
       "      <td>https://images-na.ssl-images-amazon.com/images...</td>\n",
       "      <td>SHIRT</td>\n",
       "      <td>featherlite ladies long sleeve stain resistant...</td>\n",
       "      <td>26.26</td>\n",
       "      <td>False</td>\n",
       "    </tr>\n",
       "    <tr>\n",
       "      <th>1</th>\n",
       "      <td>6</td>\n",
       "      <td>B012YX2ZPI</td>\n",
       "      <td>hxkingdom fashion tshirts</td>\n",
       "      <td>white</td>\n",
       "      <td>https://images-na.ssl-images-amazon.com/images...</td>\n",
       "      <td>SHIRT</td>\n",
       "      <td>womens unique 100 cotton  special olympics wor...</td>\n",
       "      <td>9.99</td>\n",
       "      <td>False</td>\n",
       "    </tr>\n",
       "    <tr>\n",
       "      <th>2</th>\n",
       "      <td>15</td>\n",
       "      <td>B003BSRPB0</td>\n",
       "      <td>featherlite</td>\n",
       "      <td>white</td>\n",
       "      <td>https://images-na.ssl-images-amazon.com/images...</td>\n",
       "      <td>SHIRT</td>\n",
       "      <td>featherlite ladies moisture free mesh sport sh...</td>\n",
       "      <td>20.54</td>\n",
       "      <td>False</td>\n",
       "    </tr>\n",
       "    <tr>\n",
       "      <th>3</th>\n",
       "      <td>27</td>\n",
       "      <td>B014ICEJ1Q</td>\n",
       "      <td>fnc7c</td>\n",
       "      <td>purple</td>\n",
       "      <td>https://images-na.ssl-images-amazon.com/images...</td>\n",
       "      <td>SHIRT</td>\n",
       "      <td>supernatural chibis sam dean castiel neck tshi...</td>\n",
       "      <td>7.39</td>\n",
       "      <td>False</td>\n",
       "    </tr>\n",
       "    <tr>\n",
       "      <th>4</th>\n",
       "      <td>43</td>\n",
       "      <td>B0079BMKDS</td>\n",
       "      <td>featherlite</td>\n",
       "      <td>white</td>\n",
       "      <td>https://images-na.ssl-images-amazon.com/images...</td>\n",
       "      <td>APPAREL</td>\n",
       "      <td>featherlite ladies silky smooth pique white xl</td>\n",
       "      <td>13.53</td>\n",
       "      <td>False</td>\n",
       "    </tr>\n",
       "    <tr>\n",
       "      <th>5</th>\n",
       "      <td>46</td>\n",
       "      <td>B01NACPBG2</td>\n",
       "      <td>fifth degree</td>\n",
       "      <td>black</td>\n",
       "      <td>https://images-na.ssl-images-amazon.com/images...</td>\n",
       "      <td>SHIRT</td>\n",
       "      <td>fifth degree womens gold foil graphic tees jun...</td>\n",
       "      <td>6.95</td>\n",
       "      <td>False</td>\n",
       "    </tr>\n",
       "    <tr>\n",
       "      <th>6</th>\n",
       "      <td>50</td>\n",
       "      <td>B00480IRZS</td>\n",
       "      <td>finebrandshop</td>\n",
       "      <td>green</td>\n",
       "      <td>https://images-na.ssl-images-amazon.com/images...</td>\n",
       "      <td>SHIRT</td>\n",
       "      <td>ladies green seamless ribbed diamond patterned...</td>\n",
       "      <td>7.90</td>\n",
       "      <td>False</td>\n",
       "    </tr>\n",
       "    <tr>\n",
       "      <th>7</th>\n",
       "      <td>60</td>\n",
       "      <td>B014ICB9A0</td>\n",
       "      <td>fnc7c</td>\n",
       "      <td>black</td>\n",
       "      <td>https://images-na.ssl-images-amazon.com/images...</td>\n",
       "      <td>APPAREL</td>\n",
       "      <td>supernatural chibis sam dean castiel neck shir...</td>\n",
       "      <td>7.39</td>\n",
       "      <td>False</td>\n",
       "    </tr>\n",
       "    <tr>\n",
       "      <th>8</th>\n",
       "      <td>78</td>\n",
       "      <td>B011YPK0MW</td>\n",
       "      <td>feel piece</td>\n",
       "      <td>navy</td>\n",
       "      <td>https://images-na.ssl-images-amazon.com/images...</td>\n",
       "      <td>SHIRT</td>\n",
       "      <td>feel piece sami dip dye top one size navy</td>\n",
       "      <td>72.40</td>\n",
       "      <td>False</td>\n",
       "    </tr>\n",
       "    <tr>\n",
       "      <th>9</th>\n",
       "      <td>95</td>\n",
       "      <td>B0079QXJ3S</td>\n",
       "      <td>finebrandshop</td>\n",
       "      <td>Berry</td>\n",
       "      <td>https://images-na.ssl-images-amazon.com/images...</td>\n",
       "      <td>SHIRT</td>\n",
       "      <td>ladies fuchsia pink seamless stone set tube top</td>\n",
       "      <td>7.50</td>\n",
       "      <td>False</td>\n",
       "    </tr>\n",
       "  </tbody>\n",
       "</table>\n",
       "</div>"
      ],
      "text/plain": [
       "   index        asin                       brand   color  \\\n",
       "0      4  B004GSI2OS                featherlite    black   \n",
       "1      6  B012YX2ZPI  hxkingdom fashion tshirts    white   \n",
       "2     15  B003BSRPB0                featherlite    white   \n",
       "3     27  B014ICEJ1Q                      fnc7c   purple   \n",
       "4     43  B0079BMKDS                featherlite    white   \n",
       "5     46  B01NACPBG2               fifth degree    black   \n",
       "6     50  B00480IRZS              finebrandshop    green   \n",
       "7     60  B014ICB9A0                      fnc7c    black   \n",
       "8     78  B011YPK0MW                 feel piece     navy   \n",
       "9     95  B0079QXJ3S              finebrandshop    Berry   \n",
       "\n",
       "                                    medium_image_url product_type_name  \\\n",
       "0  https://images-na.ssl-images-amazon.com/images...             SHIRT   \n",
       "1  https://images-na.ssl-images-amazon.com/images...             SHIRT   \n",
       "2  https://images-na.ssl-images-amazon.com/images...             SHIRT   \n",
       "3  https://images-na.ssl-images-amazon.com/images...             SHIRT   \n",
       "4  https://images-na.ssl-images-amazon.com/images...           APPAREL   \n",
       "5  https://images-na.ssl-images-amazon.com/images...             SHIRT   \n",
       "6  https://images-na.ssl-images-amazon.com/images...             SHIRT   \n",
       "7  https://images-na.ssl-images-amazon.com/images...           APPAREL   \n",
       "8  https://images-na.ssl-images-amazon.com/images...             SHIRT   \n",
       "9  https://images-na.ssl-images-amazon.com/images...             SHIRT   \n",
       "\n",
       "                                               title  formatted_price  digital  \n",
       "0  featherlite ladies long sleeve stain resistant...            26.26    False  \n",
       "1  womens unique 100 cotton  special olympics wor...             9.99    False  \n",
       "2  featherlite ladies moisture free mesh sport sh...            20.54    False  \n",
       "3  supernatural chibis sam dean castiel neck tshi...             7.39    False  \n",
       "4    featherlite ladies silky smooth pique white xl             13.53    False  \n",
       "5  fifth degree womens gold foil graphic tees jun...             6.95    False  \n",
       "6  ladies green seamless ribbed diamond patterned...             7.90    False  \n",
       "7  supernatural chibis sam dean castiel neck shir...             7.39    False  \n",
       "8         feel piece sami dip dye top one size navy             72.40    False  \n",
       "9   ladies fuchsia pink seamless stone set tube top              7.50    False  "
      ]
     },
     "execution_count": 30,
     "metadata": {},
     "output_type": "execute_result"
    }
   ],
   "source": [
    "data.head(10)"
   ]
  },
  {
   "cell_type": "code",
   "execution_count": 31,
   "metadata": {},
   "outputs": [],
   "source": [
    "data.drop(\"index\",axis=1,inplace=True)"
   ]
  },
  {
   "cell_type": "code",
   "execution_count": 32,
   "metadata": {},
   "outputs": [],
   "source": [
    "data['color'] = data['color'].astype(str)"
   ]
  },
  {
   "cell_type": "code",
   "execution_count": 33,
   "metadata": {},
   "outputs": [],
   "source": [
    "def convrt_remove_dup(x):\n",
    "    x =x.split(\",\")\n",
    "    x = list(dict.fromkeys(x))\n",
    "    x = \",\".join(x)\n",
    "    return x"
   ]
  },
  {
   "cell_type": "code",
   "execution_count": 34,
   "metadata": {},
   "outputs": [],
   "source": [
    "data[\"color\"] = data[\"color\"].apply(lambda x: convrt_remove_dup(x))"
   ]
  },
  {
   "cell_type": "code",
   "execution_count": 35,
   "metadata": {},
   "outputs": [],
   "source": [
    "data['color'] = data['color'].astype(str)"
   ]
  },
  {
   "cell_type": "code",
   "execution_count": 36,
   "metadata": {},
   "outputs": [
    {
     "data": {
      "text/plain": [
       "257"
      ]
     },
     "execution_count": 36,
     "metadata": {},
     "output_type": "execute_result"
    }
   ],
   "source": [
    "len(data[\"color\"].unique())"
   ]
  },
  {
   "cell_type": "code",
   "execution_count": 37,
   "metadata": {},
   "outputs": [],
   "source": [
    "pd.set_option(\"display.max_colwidth\", -1)"
   ]
  },
  {
   "cell_type": "code",
   "execution_count": 38,
   "metadata": {},
   "outputs": [
    {
     "data": {
      "text/plain": [
       "[16489]"
      ]
     },
     "execution_count": 38,
     "metadata": {},
     "output_type": "execute_result"
    }
   ],
   "source": [
    "data.index[data['asin'] == 'B01MYPBEKQ'].tolist()"
   ]
  },
  {
   "cell_type": "code",
   "execution_count": 39,
   "metadata": {},
   "outputs": [
    {
     "data": {
      "text/plain": [
       "count     17540                                                                   \n",
       "unique    16350                                                                   \n",
       "top       https://images-na.ssl-images-amazon.com/images/I/31Q7YxzFkEL._SL160_.jpg\n",
       "freq      11                                                                      \n",
       "Name: medium_image_url, dtype: object"
      ]
     },
     "execution_count": 39,
     "metadata": {},
     "output_type": "execute_result"
    }
   ],
   "source": [
    "data[\"medium_image_url\"].describe()"
   ]
  },
  {
   "cell_type": "code",
   "execution_count": 40,
   "metadata": {
    "tags": []
   },
   "outputs": [
    {
     "data": {
      "text/plain": [
       "16528    https://images-na.ssl-images-amazon.com/images/I/41oqd22nCmL._SL160_.jpg\n",
       "Name: medium_image_url, dtype: object"
      ]
     },
     "execution_count": 40,
     "metadata": {},
     "output_type": "execute_result"
    }
   ],
   "source": [
    "data.iloc[[16528]][\"medium_image_url\"][:]"
   ]
  },
  {
   "cell_type": "code",
   "execution_count": 41,
   "metadata": {},
   "outputs": [],
   "source": [
    "data.drop([9132, 11131,4629,12074, 13908,13373,5549,4060,13579,15783,16517],axis=0,inplace=True)"
   ]
  },
  {
   "cell_type": "code",
   "execution_count": 42,
   "metadata": {},
   "outputs": [],
   "source": [
    "data.drop_duplicates(subset='medium_image_url', keep=\"last\",inplace=True)"
   ]
  },
  {
   "cell_type": "code",
   "execution_count": 43,
   "metadata": {},
   "outputs": [],
   "source": [
    "data = data[data['brand'].notna()]"
   ]
  },
  {
   "cell_type": "code",
   "execution_count": 44,
   "metadata": {},
   "outputs": [],
   "source": [
    "data.reset_index(inplace=True)"
   ]
  },
  {
   "cell_type": "code",
   "execution_count": 45,
   "metadata": {},
   "outputs": [
    {
     "data": {
      "text/plain": [
       "'C:\\\\Users\\\\Dragox.RS\\\\Desktop\\\\Study_Project\\\\Apparel-Recommendation-master\\\\final.csv'"
      ]
     },
     "execution_count": 45,
     "metadata": {},
     "output_type": "execute_result"
    }
   ],
   "source": [
    "import os\n",
    "cwd = os.getcwd()\n",
    "cwd+\"\\\\final.csv\""
   ]
  },
  {
   "cell_type": "code",
   "execution_count": 46,
   "metadata": {},
   "outputs": [],
   "source": [
    "df=pd.read_csv(\"final.csv\")"
   ]
  },
  {
   "cell_type": "code",
   "execution_count": 47,
   "metadata": {},
   "outputs": [],
   "source": [
    "df.drop([\"Unnamed: 0\",\"level_0\"],axis=1,inplace=True)"
   ]
  },
  {
   "cell_type": "code",
   "execution_count": 48,
   "metadata": {},
   "outputs": [
    {
     "name": "stdout",
     "output_type": "stream",
     "text": [
      "<class 'pandas.core.frame.DataFrame'>\n",
      "RangeIndex: 16315 entries, 0 to 16314\n",
      "Data columns (total 9 columns):\n",
      " #   Column             Non-Null Count  Dtype  \n",
      "---  ------             --------------  -----  \n",
      " 0   index              16315 non-null  int64  \n",
      " 1   asin               16315 non-null  object \n",
      " 2   brand              16315 non-null  object \n",
      " 3   color              16315 non-null  object \n",
      " 4   medium_image_url   16315 non-null  object \n",
      " 5   product_type_name  16315 non-null  object \n",
      " 6   title              16315 non-null  object \n",
      " 7   formatted_price    16315 non-null  float64\n",
      " 8   digital            16315 non-null  bool   \n",
      "dtypes: bool(1), float64(1), int64(1), object(6)\n",
      "memory usage: 1.0+ MB\n"
     ]
    }
   ],
   "source": [
    "df.info()"
   ]
  },
  {
   "cell_type": "code",
   "execution_count": 49,
   "metadata": {},
   "outputs": [
    {
     "data": {
      "text/html": [
       "<div>\n",
       "<style scoped>\n",
       "    .dataframe tbody tr th:only-of-type {\n",
       "        vertical-align: middle;\n",
       "    }\n",
       "\n",
       "    .dataframe tbody tr th {\n",
       "        vertical-align: top;\n",
       "    }\n",
       "\n",
       "    .dataframe thead th {\n",
       "        text-align: right;\n",
       "    }\n",
       "</style>\n",
       "<table border=\"1\" class=\"dataframe\">\n",
       "  <thead>\n",
       "    <tr style=\"text-align: right;\">\n",
       "      <th></th>\n",
       "      <th>index</th>\n",
       "      <th>asin</th>\n",
       "      <th>brand</th>\n",
       "      <th>color</th>\n",
       "      <th>medium_image_url</th>\n",
       "      <th>product_type_name</th>\n",
       "      <th>title</th>\n",
       "      <th>formatted_price</th>\n",
       "      <th>digital</th>\n",
       "    </tr>\n",
       "  </thead>\n",
       "  <tbody>\n",
       "    <tr>\n",
       "      <th>0</th>\n",
       "      <td>2</td>\n",
       "      <td>B003BSRPB0</td>\n",
       "      <td>featherlite</td>\n",
       "      <td>white</td>\n",
       "      <td>https://images-na.ssl-images-amazon.com/images/I/41dCf%2BplpCL._SL160_.jpg</td>\n",
       "      <td>SHIRT</td>\n",
       "      <td>featherlite ladies moisture free mesh sport shirt white  xxxlarge</td>\n",
       "      <td>20.54</td>\n",
       "      <td>False</td>\n",
       "    </tr>\n",
       "    <tr>\n",
       "      <th>1</th>\n",
       "      <td>3</td>\n",
       "      <td>B014ICEJ1Q</td>\n",
       "      <td>fnc7c</td>\n",
       "      <td>purple</td>\n",
       "      <td>https://images-na.ssl-images-amazon.com/images/I/41Cn7jZ3O9L._SL160_.jpg</td>\n",
       "      <td>SHIRT</td>\n",
       "      <td>supernatural chibis sam dean castiel neck tshirts female purple l</td>\n",
       "      <td>7.39</td>\n",
       "      <td>False</td>\n",
       "    </tr>\n",
       "    <tr>\n",
       "      <th>2</th>\n",
       "      <td>4</td>\n",
       "      <td>B0079BMKDS</td>\n",
       "      <td>featherlite</td>\n",
       "      <td>white</td>\n",
       "      <td>https://images-na.ssl-images-amazon.com/images/I/31%2BYSWGczhL._SL160_.jpg</td>\n",
       "      <td>APPAREL</td>\n",
       "      <td>featherlite ladies silky smooth pique white xl</td>\n",
       "      <td>13.53</td>\n",
       "      <td>False</td>\n",
       "    </tr>\n",
       "    <tr>\n",
       "      <th>3</th>\n",
       "      <td>5</td>\n",
       "      <td>B01NACPBG2</td>\n",
       "      <td>fifth degree</td>\n",
       "      <td>black</td>\n",
       "      <td>https://images-na.ssl-images-amazon.com/images/I/51CrsFle7%2BL._SL160_.jpg</td>\n",
       "      <td>SHIRT</td>\n",
       "      <td>fifth degree womens gold foil graphic tees junior top short sleeve printed shirt  l</td>\n",
       "      <td>6.95</td>\n",
       "      <td>False</td>\n",
       "    </tr>\n",
       "    <tr>\n",
       "      <th>4</th>\n",
       "      <td>6</td>\n",
       "      <td>B00480IRZS</td>\n",
       "      <td>finebrandshop</td>\n",
       "      <td>green</td>\n",
       "      <td>https://images-na.ssl-images-amazon.com/images/I/41ieEs4wqnL._SL160_.jpg</td>\n",
       "      <td>SHIRT</td>\n",
       "      <td>ladies green seamless ribbed diamond patterned cap sleeve top wide vneck</td>\n",
       "      <td>7.90</td>\n",
       "      <td>False</td>\n",
       "    </tr>\n",
       "    <tr>\n",
       "      <th>...</th>\n",
       "      <td>...</td>\n",
       "      <td>...</td>\n",
       "      <td>...</td>\n",
       "      <td>...</td>\n",
       "      <td>...</td>\n",
       "      <td>...</td>\n",
       "      <td>...</td>\n",
       "      <td>...</td>\n",
       "      <td>...</td>\n",
       "    </tr>\n",
       "    <tr>\n",
       "      <th>16310</th>\n",
       "      <td>17535</td>\n",
       "      <td>B01MRV2IFS</td>\n",
       "      <td>yuelian</td>\n",
       "      <td>black</td>\n",
       "      <td>https://images-na.ssl-images-amazon.com/images/I/41%2BtEUMOzUL._SL160_.jpg</td>\n",
       "      <td>SHIRT</td>\n",
       "      <td>yuelian womens chiffon short sleeves sun protection outerwear blouse</td>\n",
       "      <td>19.25</td>\n",
       "      <td>False</td>\n",
       "    </tr>\n",
       "    <tr>\n",
       "      <th>16311</th>\n",
       "      <td>17536</td>\n",
       "      <td>B01LY4QWLF</td>\n",
       "      <td>vintage america</td>\n",
       "      <td>white</td>\n",
       "      <td>https://images-na.ssl-images-amazon.com/images/I/41IGij8dDqL._SL160_.jpg</td>\n",
       "      <td>SHIRT</td>\n",
       "      <td>vintage america womens large lace collared blouse white l</td>\n",
       "      <td>23.24</td>\n",
       "      <td>False</td>\n",
       "    </tr>\n",
       "    <tr>\n",
       "      <th>16312</th>\n",
       "      <td>17537</td>\n",
       "      <td>B07167SCNH</td>\n",
       "      <td>tart collections</td>\n",
       "      <td>black</td>\n",
       "      <td>https://images-na.ssl-images-amazon.com/images/I/41Im-mnGE%2BL._SL160_.jpg</td>\n",
       "      <td>SHIRT</td>\n",
       "      <td>tart womens collections ann wrap top xs black</td>\n",
       "      <td>29.99</td>\n",
       "      <td>False</td>\n",
       "    </tr>\n",
       "    <tr>\n",
       "      <th>16313</th>\n",
       "      <td>17538</td>\n",
       "      <td>B07575N2WX</td>\n",
       "      <td>soprano</td>\n",
       "      <td>gray</td>\n",
       "      <td>https://images-na.ssl-images-amazon.com/images/I/41WRn2M14JL._SL160_.jpg</td>\n",
       "      <td>SHIRT</td>\n",
       "      <td>soprano womens small tiefringe slubknit tank top gray</td>\n",
       "      <td>22.83</td>\n",
       "      <td>False</td>\n",
       "    </tr>\n",
       "    <tr>\n",
       "      <th>16314</th>\n",
       "      <td>17539</td>\n",
       "      <td>B01NCO06S0</td>\n",
       "      <td>faded glory</td>\n",
       "      <td>grey,blue</td>\n",
       "      <td>https://images-na.ssl-images-amazon.com/images/I/41RHS5%2BbB7L._SL160_.jpg</td>\n",
       "      <td>SHIRT</td>\n",
       "      <td>faded glory womens plaid button 2 pocket shirt bluegrey 1x</td>\n",
       "      <td>18.99</td>\n",
       "      <td>False</td>\n",
       "    </tr>\n",
       "  </tbody>\n",
       "</table>\n",
       "<p>16315 rows × 9 columns</p>\n",
       "</div>"
      ],
      "text/plain": [
       "       index        asin              brand      color  \\\n",
       "0      2      B003BSRPB0  featherlite        white       \n",
       "1      3      B014ICEJ1Q  fnc7c              purple      \n",
       "2      4      B0079BMKDS  featherlite        white       \n",
       "3      5      B01NACPBG2  fifth degree       black       \n",
       "4      6      B00480IRZS  finebrandshop      green       \n",
       "...   ..             ...             ...       ...       \n",
       "16310  17535  B01MRV2IFS  yuelian            black       \n",
       "16311  17536  B01LY4QWLF  vintage america    white       \n",
       "16312  17537  B07167SCNH  tart collections   black       \n",
       "16313  17538  B07575N2WX  soprano            gray        \n",
       "16314  17539  B01NCO06S0  faded glory        grey,blue   \n",
       "\n",
       "                                                                 medium_image_url  \\\n",
       "0      https://images-na.ssl-images-amazon.com/images/I/41dCf%2BplpCL._SL160_.jpg   \n",
       "1      https://images-na.ssl-images-amazon.com/images/I/41Cn7jZ3O9L._SL160_.jpg     \n",
       "2      https://images-na.ssl-images-amazon.com/images/I/31%2BYSWGczhL._SL160_.jpg   \n",
       "3      https://images-na.ssl-images-amazon.com/images/I/51CrsFle7%2BL._SL160_.jpg   \n",
       "4      https://images-na.ssl-images-amazon.com/images/I/41ieEs4wqnL._SL160_.jpg     \n",
       "...                                                                         ...     \n",
       "16310  https://images-na.ssl-images-amazon.com/images/I/41%2BtEUMOzUL._SL160_.jpg   \n",
       "16311  https://images-na.ssl-images-amazon.com/images/I/41IGij8dDqL._SL160_.jpg     \n",
       "16312  https://images-na.ssl-images-amazon.com/images/I/41Im-mnGE%2BL._SL160_.jpg   \n",
       "16313  https://images-na.ssl-images-amazon.com/images/I/41WRn2M14JL._SL160_.jpg     \n",
       "16314  https://images-na.ssl-images-amazon.com/images/I/41RHS5%2BbB7L._SL160_.jpg   \n",
       "\n",
       "      product_type_name  \\\n",
       "0      SHIRT              \n",
       "1      SHIRT              \n",
       "2      APPAREL            \n",
       "3      SHIRT              \n",
       "4      SHIRT              \n",
       "...      ...              \n",
       "16310  SHIRT              \n",
       "16311  SHIRT              \n",
       "16312  SHIRT              \n",
       "16313  SHIRT              \n",
       "16314  SHIRT              \n",
       "\n",
       "                                                                                      title  \\\n",
       "0      featherlite ladies moisture free mesh sport shirt white  xxxlarge                      \n",
       "1      supernatural chibis sam dean castiel neck tshirts female purple l                      \n",
       "2      featherlite ladies silky smooth pique white xl                                         \n",
       "3      fifth degree womens gold foil graphic tees junior top short sleeve printed shirt  l    \n",
       "4      ladies green seamless ribbed diamond patterned cap sleeve top wide vneck               \n",
       "...                                                                          ...              \n",
       "16310  yuelian womens chiffon short sleeves sun protection outerwear blouse                   \n",
       "16311  vintage america womens large lace collared blouse white l                              \n",
       "16312  tart womens collections ann wrap top xs black                                          \n",
       "16313  soprano womens small tiefringe slubknit tank top gray                                  \n",
       "16314  faded glory womens plaid button 2 pocket shirt bluegrey 1x                             \n",
       "\n",
       "       formatted_price  digital  \n",
       "0      20.54            False    \n",
       "1      7.39             False    \n",
       "2      13.53            False    \n",
       "3      6.95             False    \n",
       "4      7.90             False    \n",
       "...     ...               ...    \n",
       "16310  19.25            False    \n",
       "16311  23.24            False    \n",
       "16312  29.99            False    \n",
       "16313  22.83            False    \n",
       "16314  18.99            False    \n",
       "\n",
       "[16315 rows x 9 columns]"
      ]
     },
     "execution_count": 49,
     "metadata": {},
     "output_type": "execute_result"
    }
   ],
   "source": [
    "df"
   ]
  },
  {
   "cell_type": "code",
   "execution_count": 50,
   "metadata": {},
   "outputs": [],
   "source": [
    "df.reset_index(inplace=True)"
   ]
  },
  {
   "cell_type": "code",
   "execution_count": 51,
   "metadata": {},
   "outputs": [],
   "source": [
    "df = df.rename(columns={'index':'id'})"
   ]
  },
  {
   "cell_type": "code",
   "execution_count": 218,
   "metadata": {},
   "outputs": [],
   "source": [
    "df.drop('index',axis=1,inplace=True)"
   ]
  },
  {
   "cell_type": "code",
   "execution_count": 222,
   "metadata": {},
   "outputs": [],
   "source": [
    "df.rename(columns={\"level_0\": \"id\"},inplace=True)"
   ]
  },
  {
   "cell_type": "markdown",
   "metadata": {},
   "source": [
    "DATA Connection"
   ]
  },
  {
   "cell_type": "code",
   "execution_count": 224,
   "metadata": {},
   "outputs": [],
   "source": [
    "import sqlite3"
   ]
  },
  {
   "cell_type": "code",
   "execution_count": 225,
   "metadata": {},
   "outputs": [],
   "source": [
    "conn = sqlite3.connect('db.sqlite3')"
   ]
  },
  {
   "cell_type": "code",
   "execution_count": 226,
   "metadata": {},
   "outputs": [],
   "source": [
    "c = conn.cursor()"
   ]
  },
  {
   "cell_type": "code",
   "execution_count": 227,
   "metadata": {},
   "outputs": [],
   "source": [
    "c.execute('CREATE TABLE IF NOT EXISTS store_product (id integer, asin text,brand text,color text,medium_image_url text,product_type_name text,title text, formatted_price float, digital boolean)')\n",
    "\n",
    "conn.commit()"
   ]
  },
  {
   "cell_type": "code",
   "execution_count": 228,
   "metadata": {},
   "outputs": [],
   "source": [
    "df.to_sql('store_product', conn, if_exists='replace', index = False)"
   ]
  },
  {
   "cell_type": "code",
   "execution_count": 229,
   "metadata": {},
   "outputs": [],
   "source": [
    "conn.close()"
   ]
  },
  {
   "cell_type": "code",
   "execution_count": 230,
   "metadata": {},
   "outputs": [],
   "source": [
    "df.to_csv(\"finalx.csv\")"
   ]
  },
  {
   "cell_type": "markdown",
   "metadata": {},
   "source": [
    "DATA EXTRACT"
   ]
  },
  {
   "cell_type": "code",
   "execution_count": 60,
   "metadata": {},
   "outputs": [
    {
     "data": {
      "text/html": [
       "<div>\n",
       "<style scoped>\n",
       "    .dataframe tbody tr th:only-of-type {\n",
       "        vertical-align: middle;\n",
       "    }\n",
       "\n",
       "    .dataframe tbody tr th {\n",
       "        vertical-align: top;\n",
       "    }\n",
       "\n",
       "    .dataframe thead th {\n",
       "        text-align: right;\n",
       "    }\n",
       "</style>\n",
       "<table border=\"1\" class=\"dataframe\">\n",
       "  <thead>\n",
       "    <tr style=\"text-align: right;\">\n",
       "      <th></th>\n",
       "      <th>level_0</th>\n",
       "      <th>id</th>\n",
       "      <th>asin</th>\n",
       "      <th>brand</th>\n",
       "      <th>color</th>\n",
       "      <th>medium_image_url</th>\n",
       "      <th>product_type_name</th>\n",
       "      <th>title</th>\n",
       "      <th>formatted_price</th>\n",
       "      <th>digital</th>\n",
       "    </tr>\n",
       "  </thead>\n",
       "  <tbody>\n",
       "    <tr>\n",
       "      <th>0</th>\n",
       "      <td>0</td>\n",
       "      <td>2</td>\n",
       "      <td>B003BSRPB0</td>\n",
       "      <td>featherlite</td>\n",
       "      <td>white</td>\n",
       "      <td>https://images-na.ssl-images-amazon.com/images/I/41dCf%2BplpCL._SL160_.jpg</td>\n",
       "      <td>SHIRT</td>\n",
       "      <td>featherlite ladies moisture free mesh sport shirt white  xxxlarge</td>\n",
       "      <td>20.54</td>\n",
       "      <td>0</td>\n",
       "    </tr>\n",
       "    <tr>\n",
       "      <th>1</th>\n",
       "      <td>1</td>\n",
       "      <td>3</td>\n",
       "      <td>B014ICEJ1Q</td>\n",
       "      <td>fnc7c</td>\n",
       "      <td>purple</td>\n",
       "      <td>https://images-na.ssl-images-amazon.com/images/I/41Cn7jZ3O9L._SL160_.jpg</td>\n",
       "      <td>SHIRT</td>\n",
       "      <td>supernatural chibis sam dean castiel neck tshirts female purple l</td>\n",
       "      <td>7.39</td>\n",
       "      <td>0</td>\n",
       "    </tr>\n",
       "    <tr>\n",
       "      <th>2</th>\n",
       "      <td>2</td>\n",
       "      <td>4</td>\n",
       "      <td>B0079BMKDS</td>\n",
       "      <td>featherlite</td>\n",
       "      <td>white</td>\n",
       "      <td>https://images-na.ssl-images-amazon.com/images/I/31%2BYSWGczhL._SL160_.jpg</td>\n",
       "      <td>APPAREL</td>\n",
       "      <td>featherlite ladies silky smooth pique white xl</td>\n",
       "      <td>13.53</td>\n",
       "      <td>0</td>\n",
       "    </tr>\n",
       "    <tr>\n",
       "      <th>3</th>\n",
       "      <td>3</td>\n",
       "      <td>5</td>\n",
       "      <td>B01NACPBG2</td>\n",
       "      <td>fifth degree</td>\n",
       "      <td>black</td>\n",
       "      <td>https://images-na.ssl-images-amazon.com/images/I/51CrsFle7%2BL._SL160_.jpg</td>\n",
       "      <td>SHIRT</td>\n",
       "      <td>fifth degree womens gold foil graphic tees junior top short sleeve printed shirt  l</td>\n",
       "      <td>6.95</td>\n",
       "      <td>0</td>\n",
       "    </tr>\n",
       "    <tr>\n",
       "      <th>4</th>\n",
       "      <td>4</td>\n",
       "      <td>6</td>\n",
       "      <td>B00480IRZS</td>\n",
       "      <td>finebrandshop</td>\n",
       "      <td>green</td>\n",
       "      <td>https://images-na.ssl-images-amazon.com/images/I/41ieEs4wqnL._SL160_.jpg</td>\n",
       "      <td>SHIRT</td>\n",
       "      <td>ladies green seamless ribbed diamond patterned cap sleeve top wide vneck</td>\n",
       "      <td>7.90</td>\n",
       "      <td>0</td>\n",
       "    </tr>\n",
       "    <tr>\n",
       "      <th>...</th>\n",
       "      <td>...</td>\n",
       "      <td>...</td>\n",
       "      <td>...</td>\n",
       "      <td>...</td>\n",
       "      <td>...</td>\n",
       "      <td>...</td>\n",
       "      <td>...</td>\n",
       "      <td>...</td>\n",
       "      <td>...</td>\n",
       "      <td>...</td>\n",
       "    </tr>\n",
       "    <tr>\n",
       "      <th>16310</th>\n",
       "      <td>16310</td>\n",
       "      <td>17535</td>\n",
       "      <td>B01MRV2IFS</td>\n",
       "      <td>yuelian</td>\n",
       "      <td>black</td>\n",
       "      <td>https://images-na.ssl-images-amazon.com/images/I/41%2BtEUMOzUL._SL160_.jpg</td>\n",
       "      <td>SHIRT</td>\n",
       "      <td>yuelian womens chiffon short sleeves sun protection outerwear blouse</td>\n",
       "      <td>19.25</td>\n",
       "      <td>0</td>\n",
       "    </tr>\n",
       "    <tr>\n",
       "      <th>16311</th>\n",
       "      <td>16311</td>\n",
       "      <td>17536</td>\n",
       "      <td>B01LY4QWLF</td>\n",
       "      <td>vintage america</td>\n",
       "      <td>white</td>\n",
       "      <td>https://images-na.ssl-images-amazon.com/images/I/41IGij8dDqL._SL160_.jpg</td>\n",
       "      <td>SHIRT</td>\n",
       "      <td>vintage america womens large lace collared blouse white l</td>\n",
       "      <td>23.24</td>\n",
       "      <td>0</td>\n",
       "    </tr>\n",
       "    <tr>\n",
       "      <th>16312</th>\n",
       "      <td>16312</td>\n",
       "      <td>17537</td>\n",
       "      <td>B07167SCNH</td>\n",
       "      <td>tart collections</td>\n",
       "      <td>black</td>\n",
       "      <td>https://images-na.ssl-images-amazon.com/images/I/41Im-mnGE%2BL._SL160_.jpg</td>\n",
       "      <td>SHIRT</td>\n",
       "      <td>tart womens collections ann wrap top xs black</td>\n",
       "      <td>29.99</td>\n",
       "      <td>0</td>\n",
       "    </tr>\n",
       "    <tr>\n",
       "      <th>16313</th>\n",
       "      <td>16313</td>\n",
       "      <td>17538</td>\n",
       "      <td>B07575N2WX</td>\n",
       "      <td>soprano</td>\n",
       "      <td>gray</td>\n",
       "      <td>https://images-na.ssl-images-amazon.com/images/I/41WRn2M14JL._SL160_.jpg</td>\n",
       "      <td>SHIRT</td>\n",
       "      <td>soprano womens small tiefringe slubknit tank top gray</td>\n",
       "      <td>22.83</td>\n",
       "      <td>0</td>\n",
       "    </tr>\n",
       "    <tr>\n",
       "      <th>16314</th>\n",
       "      <td>16314</td>\n",
       "      <td>17539</td>\n",
       "      <td>B01NCO06S0</td>\n",
       "      <td>faded glory</td>\n",
       "      <td>grey,blue</td>\n",
       "      <td>https://images-na.ssl-images-amazon.com/images/I/41RHS5%2BbB7L._SL160_.jpg</td>\n",
       "      <td>SHIRT</td>\n",
       "      <td>faded glory womens plaid button 2 pocket shirt bluegrey 1x</td>\n",
       "      <td>18.99</td>\n",
       "      <td>0</td>\n",
       "    </tr>\n",
       "  </tbody>\n",
       "</table>\n",
       "<p>16315 rows × 10 columns</p>\n",
       "</div>"
      ],
      "text/plain": [
       "       level_0     id        asin              brand      color  \\\n",
       "0      0        2      B003BSRPB0  featherlite        white       \n",
       "1      1        3      B014ICEJ1Q  fnc7c              purple      \n",
       "2      2        4      B0079BMKDS  featherlite        white       \n",
       "3      3        5      B01NACPBG2  fifth degree       black       \n",
       "4      4        6      B00480IRZS  finebrandshop      green       \n",
       "...   ..       ..             ...             ...       ...       \n",
       "16310  16310    17535  B01MRV2IFS  yuelian            black       \n",
       "16311  16311    17536  B01LY4QWLF  vintage america    white       \n",
       "16312  16312    17537  B07167SCNH  tart collections   black       \n",
       "16313  16313    17538  B07575N2WX  soprano            gray        \n",
       "16314  16314    17539  B01NCO06S0  faded glory        grey,blue   \n",
       "\n",
       "                                                                 medium_image_url  \\\n",
       "0      https://images-na.ssl-images-amazon.com/images/I/41dCf%2BplpCL._SL160_.jpg   \n",
       "1      https://images-na.ssl-images-amazon.com/images/I/41Cn7jZ3O9L._SL160_.jpg     \n",
       "2      https://images-na.ssl-images-amazon.com/images/I/31%2BYSWGczhL._SL160_.jpg   \n",
       "3      https://images-na.ssl-images-amazon.com/images/I/51CrsFle7%2BL._SL160_.jpg   \n",
       "4      https://images-na.ssl-images-amazon.com/images/I/41ieEs4wqnL._SL160_.jpg     \n",
       "...                                                                         ...     \n",
       "16310  https://images-na.ssl-images-amazon.com/images/I/41%2BtEUMOzUL._SL160_.jpg   \n",
       "16311  https://images-na.ssl-images-amazon.com/images/I/41IGij8dDqL._SL160_.jpg     \n",
       "16312  https://images-na.ssl-images-amazon.com/images/I/41Im-mnGE%2BL._SL160_.jpg   \n",
       "16313  https://images-na.ssl-images-amazon.com/images/I/41WRn2M14JL._SL160_.jpg     \n",
       "16314  https://images-na.ssl-images-amazon.com/images/I/41RHS5%2BbB7L._SL160_.jpg   \n",
       "\n",
       "      product_type_name  \\\n",
       "0      SHIRT              \n",
       "1      SHIRT              \n",
       "2      APPAREL            \n",
       "3      SHIRT              \n",
       "4      SHIRT              \n",
       "...      ...              \n",
       "16310  SHIRT              \n",
       "16311  SHIRT              \n",
       "16312  SHIRT              \n",
       "16313  SHIRT              \n",
       "16314  SHIRT              \n",
       "\n",
       "                                                                                      title  \\\n",
       "0      featherlite ladies moisture free mesh sport shirt white  xxxlarge                      \n",
       "1      supernatural chibis sam dean castiel neck tshirts female purple l                      \n",
       "2      featherlite ladies silky smooth pique white xl                                         \n",
       "3      fifth degree womens gold foil graphic tees junior top short sleeve printed shirt  l    \n",
       "4      ladies green seamless ribbed diamond patterned cap sleeve top wide vneck               \n",
       "...                                                                          ...              \n",
       "16310  yuelian womens chiffon short sleeves sun protection outerwear blouse                   \n",
       "16311  vintage america womens large lace collared blouse white l                              \n",
       "16312  tart womens collections ann wrap top xs black                                          \n",
       "16313  soprano womens small tiefringe slubknit tank top gray                                  \n",
       "16314  faded glory womens plaid button 2 pocket shirt bluegrey 1x                             \n",
       "\n",
       "       formatted_price  digital  \n",
       "0      20.54            0        \n",
       "1      7.39             0        \n",
       "2      13.53            0        \n",
       "3      6.95             0        \n",
       "4      7.90             0        \n",
       "...     ...            ..        \n",
       "16310  19.25            0        \n",
       "16311  23.24            0        \n",
       "16312  29.99            0        \n",
       "16313  22.83            0        \n",
       "16314  18.99            0        \n",
       "\n",
       "[16315 rows x 10 columns]"
      ]
     },
     "execution_count": 60,
     "metadata": {},
     "output_type": "execute_result"
    }
   ],
   "source": [
    "from sqlalchemy import create_engine\n",
    "\n",
    "cnx = create_engine('sqlite:///db.sqlite3').connect()\n",
    "\n",
    "dataframe_store_product = pd.read_sql_table('store_product', cnx)\n",
    "dataframe_store_product"
   ]
  },
  {
   "cell_type": "code",
   "execution_count": 61,
   "metadata": {},
   "outputs": [],
   "source": [
    "# Utility Functions\n",
    "\n",
    "#Display an image\n",
    "def display_img(url,ax,fig):\n",
    "    # we get the url of the apparel and download it\n",
    "    response = requests.get(url)\n",
    "    img = Image.open(BytesIO(response.content))\n",
    "    # we will display it in notebook \n",
    "    plt.imshow(img)\n",
    "\n",
    "#plotting code to understand the decision  \n",
    "def plot_heatmap(keys, values, labels, url, text):\n",
    "        # keys: list of words of recommended title\n",
    "        # values: len(values) ==  len(keys), values(i) represents the occurence of the word keys(i)\n",
    "        # labels: len(labels) == len(keys), the values of labels depends on the model we are using\n",
    "                # if model == 'bag of words': labels(i) = values(i)\n",
    "                # if model == 'tfidf weighted bag of words':labels(i) = tfidf(keys(i))\n",
    "                # if model == 'idf weighted bag of words':labels(i) = idf(keys(i))\n",
    "        # url : apparel's url\n",
    "        # we will devide the whole figure into two parts\n",
    "        gs = gridspec.GridSpec(2, 2, width_ratios=[4,1], height_ratios=[4,1]) \n",
    "        fig = plt.figure(figsize=(25,3))\n",
    "        \n",
    "        # 1st, ploting heat map that represents the count of commonly ocurred words in title2\n",
    "        ax = plt.subplot(gs[0])\n",
    "        # it displays a cell in white color if the word is intersection(lis of words of title1 and list of words of title2), in black if not\n",
    "        ax = sns.heatmap(np.array([values]), annot=np.array([labels]))\n",
    "        ax.set_xticklabels(keys) # set that axis labels as the words of title\n",
    "        ax.set_title(text) # apparel title\n",
    "        \n",
    "        # 2nd, plotting image of the the apparel\n",
    "        ax = plt.subplot(gs[1])\n",
    "        # we don't want any grid lines for image and no labels on x-axis and y-axis\n",
    "        ax.grid(False)\n",
    "        ax.set_xticks([])\n",
    "        ax.set_yticks([])\n",
    "        \n",
    "        # we call dispaly_img based with paramete url\n",
    "        display_img(url, ax, fig)\n",
    "        \n",
    "        # displays combine figure ( heat map and image together)\n",
    "        plt.show()\n",
    "    \n",
    "def plot_heatmap_image(doc_id, vec1, vec2, url, text, model):\n",
    "    # doc_id : index of the title1\n",
    "    # vec1 : input apparels's vector, it is of a dict type {word:count}\n",
    "    # vec2 : recommended apparels's vector, it is of a dict type {word:count}\n",
    "    # url : apparels image url\n",
    "    # text: title of recomonded apparel (used to keep title of image)\n",
    "    # model, it can be any of the models, \n",
    "        # 1. bag_of_words\n",
    "        # 2. tfidf\n",
    "        # 3. idf\n",
    "    # we find the common words in both titles, because these only words contribute to the distance between two title vec's\n",
    "    intersection = set(vec1.keys()) & set(vec2.keys()) \n",
    "    # we set the values of non intersecting words to zero, this is just to show the difference in heatmap\n",
    "    for i in vec2:\n",
    "        if i not in intersection:\n",
    "            vec2[i]=0\n",
    "    # for labeling heatmap, keys contains list of all words in title2\n",
    "    keys = list(vec2.keys())\n",
    "    #  if ith word in intersection(lis of words of title1 and list of words of title2): values(i)=count of that word in title2 else values(i)=0 \n",
    "    values = [vec2[x] for x in vec2.keys()]    \n",
    "    # labels: len(labels) == len(keys), the values of labels depends on the model we are using\n",
    "        # if model == 'bag of words': labels(i) = values(i)\n",
    "        # if model == 'tfidf weighted bag of words':labels(i) = tfidf(keys(i))\n",
    "        # if model == 'idf weighted bag of words':labels(i) = idf(keys(i))\n",
    "    if model == 'bag_of_words':\n",
    "        labels = values\n",
    "    elif model == 'tfidf':\n",
    "        labels = []\n",
    "        for x in vec2.keys():\n",
    "            # tfidf_title_vectorizer.vocabulary_ it contains all the words in the corpus\n",
    "            # tfidf_title_features[doc_id, index_of_word_in_corpus] will give the tfidf value of word in given document (doc_id)\n",
    "            if x in  tfidf_title_vectorizer.vocabulary_:\n",
    "                labels.append(tfidf_title_features[doc_id, tfidf_title_vectorizer.vocabulary_[x]])\n",
    "            else:\n",
    "                labels.append(0)\n",
    "    elif model == 'idf':\n",
    "        labels = []\n",
    "        for x in vec2.keys():\n",
    "            # idf_title_vectorizer.vocabulary_ it contains all the words in the corpus\n",
    "            # idf_title_features[doc_id, index_of_word_in_corpus] will give the idf value of word in given document (doc_id)\n",
    "            if x in  idf_title_vectorizer.vocabulary_:\n",
    "                labels.append(idf_title_features[doc_id, idf_title_vectorizer.vocabulary_[x]])\n",
    "            else:\n",
    "                labels.append(0)\n",
    "    plot_heatmap(keys, values, labels, url, text)\n",
    "\n",
    "# this function gets a list of wrods along with the frequency of each word given \"text\"\n",
    "def text_to_vector(text):\n",
    "    word = re.compile(r'\\w+')\n",
    "    words = word.findall(text)\n",
    "    # words stores list of all words in given string, you can try 'words = text.split()' \n",
    "    #this will also gives same result\n",
    "    return Counter(words) # Counter counts the occurence of each word in list, \n",
    "    #it returns dict type object {word1:count}\n",
    "\n",
    "def get_result(doc_id, content_a, content_b, url, model):\n",
    "    text1 = content_a\n",
    "    text2 = content_b    \n",
    "    # vector1 = dict{word11:#count, word12:#count, etc.}\n",
    "    vector1 = text_to_vector(text1)\n",
    "    # vector1 = dict{word21:#count, word22:#count, etc.}\n",
    "    vector2 = text_to_vector(text2)\n",
    "    plot_heatmap_image(doc_id, vector1, vector2, url, text2, model)"
   ]
  },
  {
   "cell_type": "code",
   "execution_count": 5,
   "metadata": {},
   "outputs": [],
   "source": [
    "from sklearn.feature_extraction.text import TfidfVectorizer\n",
    "from sklearn.metrics.pairwise import cosine_similarity\n",
    "import re\n",
    "from nltk.stem.snowball import SnowballStemmer\n",
    "import nltk\n",
    "stemmer = SnowballStemmer(\"english\")"
   ]
  },
  {
   "cell_type": "code",
   "execution_count": 63,
   "metadata": {},
   "outputs": [],
   "source": [
    "def clean_tokenize(document):\n",
    "    document = re.sub('[^\\w_\\s-]', ' ',document)       #remove punctuation marks and other symbols\n",
    "    tokens = nltk.word_tokenize(document)              #Tokenize sentences\n",
    "    cleaned_article = ' '.join([stemmer.stem(item) for item in tokens])    #Stemming each token\n",
    "    return cleaned_article"
   ]
  },
  {
   "cell_type": "code",
   "execution_count": 67,
   "metadata": {},
   "outputs": [],
   "source": [
    "import gensim.downloader"
   ]
  },
  {
   "cell_type": "code",
   "execution_count": 68,
   "metadata": {},
   "outputs": [
    {
     "name": "stdout",
     "output_type": "stream",
     "text": [
      "['fasttext-wiki-news-subwords-300', 'conceptnet-numberbatch-17-06-300', 'word2vec-ruscorpora-300', 'word2vec-google-news-300', 'glove-wiki-gigaword-50', 'glove-wiki-gigaword-100', 'glove-wiki-gigaword-200', 'glove-wiki-gigaword-300', 'glove-twitter-25', 'glove-twitter-50', 'glove-twitter-100', 'glove-twitter-200', '__testing_word2vec-matrix-synopsis']\n"
     ]
    }
   ],
   "source": [
    "print(list(gensim.downloader.info()['models'].keys()))"
   ]
  },
  {
   "cell_type": "markdown",
   "metadata": {},
   "source": [
    "<h3> GLOBAL Model returing only ASIN\"s </h3>"
   ]
  },
  {
   "cell_type": "code",
   "execution_count": 69,
   "metadata": {},
   "outputs": [],
   "source": [
    "idf_title_vectorizer = CountVectorizer()\n",
    "idf_title_features = idf_title_vectorizer.fit_transform(data['title'])\n",
    "\n",
    "def n_containing(word):\n",
    "    # return the number of documents which had the given word\n",
    "    return sum(1 for blob in data['title'] if word in blob.split())\n",
    "\n",
    "def idf(word):\n",
    "    # idf = log(#number of docs / #number of docs which had the given word)\n",
    "    return math.log(data.shape[0] / (n_containing(word)))\n",
    "\n",
    "idf_euclidean=[]\n",
    "def idf_model(doc_id, num_results):\n",
    "    M=[]\n",
    "    pairwise_dist = pairwise_distances(idf_title_features,idf_title_features[doc_id])\n",
    "\n",
    "    indices = np.argsort(pairwise_dist.flatten())[0:num_results]\n",
    "    pdists  = np.sort(pairwise_dist.flatten())[0:num_results]\n",
    "\n",
    "    df_indices = list(data.index[indices])\n",
    "\n",
    "    for i in range(0,len(indices)):\n",
    "\n",
    "        M.append(data['asin'].loc[df_indices[i]])\n",
    "\n",
    "    return M\n",
    "\n",
    "tfidf_title_vectorizer = TfidfVectorizer(min_df = 0)\n",
    "tfidf_title_features = tfidf_title_vectorizer.fit_transform(data['title'])\n",
    "tf_idf_euclidean=[]\n",
    "def tfidf_model(doc_id, num_results):\n",
    "\n",
    "    L=[]\n",
    "    pairwise_dist = pairwise_distances(tfidf_title_features,tfidf_title_features[doc_id])\n",
    "\n",
    "    indices = np.argsort(pairwise_dist.flatten())[0:num_results]\n",
    "    pdists  = np.sort(pairwise_dist.flatten())[0:num_results]\n",
    "\n",
    "    df_indices = list(data.index[indices])\n",
    "    for i in range(0,len(indices)):\n",
    "        L.append(data['asin'].loc[df_indices[i]])\n",
    "    return L\n",
    "\n",
    "title_vectorizer = CountVectorizer()\n",
    "title_features   = title_vectorizer.fit_transform(data['title'])\n",
    "title_features.get_shape()\n",
    "bag_of_words_euclidean=[]\n",
    "def bag_of_words_model(doc_id, num_results):\n",
    "\n",
    "    B=[]\n",
    "    pairwise_dist = pairwise_distances(title_features,title_features[doc_id])\n",
    "    \n",
    "    # np.argsort will return indices of the smallest distances\n",
    "    indices = np.argsort(pairwise_dist.flatten())[0:num_results]\n",
    "    #pdists will store the smallest distances\n",
    "    pdists  = np.sort(pairwise_dist.flatten())[0:num_results]\n",
    "\n",
    "    #data frame indices of the 9 smallest distace's\n",
    "    df_indices = list(data.index[indices])\n",
    "    \n",
    "    for i in range(0,len(indices)):\n",
    "\n",
    "        B.append(data['asin'].loc[df_indices[i]])\n",
    "\n",
    "    return B\n",
    "\n",
    "def global_model(doc_id,num_results):\n",
    "    G= bag_of_words_model(doc_id,num_results) + tfidf_model(doc_id,num_results) + idf_model(doc_id,num_results)\n",
    "    G = list(dict.fromkeys(G))\n",
    "    return G\n",
    "    "
   ]
  },
  {
   "cell_type": "markdown",
   "metadata": {
    "tags": []
   },
   "source": [
    "## 1.Bag of Words model on Product Titles and color"
   ]
  },
  {
   "cell_type": "code",
   "execution_count": 73,
   "metadata": {},
   "outputs": [],
   "source": [
    "title_vectorizer = CountVectorizer()\n",
    "color_features   = title_vectorizer.fit_transform(df['color'])\n",
    "title_features   = title_vectorizer.fit_transform(df['title'])\n",
    "\n",
    "\n",
    "\n",
    "title_features.get_shape() # get number of rows and columns in feature matrix.\n",
    "# title_features.shape = #data_points * #words_in_corpus\n",
    "# CountVectorizer().fit_transform(corpus) returns \n",
    "# the a sparase matrix of dimensions #data_points * #words_in_corpus\n",
    "bag_of_words_euclidean=[]\n",
    "def bag_of_words_model(doc_id, num_results):\n",
    "    # doc_id: apparel's id in given corpus\n",
    "    # pairwise_dist will store the distance from given input apparel to all remaining apparels\n",
    "    # the metric we used here is cosine, the coside distance is mesured as K(X, Y) = <X, Y> / (||X||*||Y||)\n",
    "    pairwise_dist = pairwise_distances(title_features,title_features[doc_id]) + pairwise_distances(color_features,color_features[doc_id])\n",
    "    \n",
    "    # np.argsort will return indices of the smallest distances\n",
    "    indices = np.argsort(pairwise_dist.flatten())[0:num_results]\n",
    "    #pdists will store the smallest distances\n",
    "    pdists  = np.sort(pairwise_dist.flatten())[0:num_results]\n",
    "\n",
    "    #data frame indices of the 9 smallest distace's\n",
    "    df_indices = list(df.index[indices])\n",
    "    \n",
    "    for i in range(0,len(indices)):\n",
    "        # we will pass 1. doc_id, 2. title1, 3. title2, url, model\n",
    "        get_result(indices[i],df['title'].loc[df_indices[0]], df['title'].loc[df_indices[i]], df['medium_image_url'].loc[df_indices[i]], 'bag_of_words')\n",
    "        print('ASIN :',df['asin'].loc[df_indices[i]])\n",
    "        print ('Brand:', df['brand'].loc[df_indices[i]])\n",
    "        print ('Title:', df['title'].loc[df_indices[i]])\n",
    "        bag_of_words_euclidean.append(pdists[i])\n",
    "        print ('Euclidean similarity with the query image :', pdists[i])\n",
    "        print('='*60)\n",
    "    print('Average euclidean distance is ',sum(bag_of_words_euclidean)/num_results)\n",
    "\n"
   ]
  },
  {
   "cell_type": "code",
   "execution_count": 178,
   "metadata": {},
   "outputs": [
    {
     "name": "stdout",
     "output_type": "stream",
     "text": [
      "Getting the similar items for document id and number of items\n"
     ]
    },
    {
     "data": {
      "image/png": "[encoded data removed]",
      "text/plain": [
       "<Figure size 1800x216 with 3 Axes>"
      ]
     },
     "metadata": {
      "needs_background": "light"
     },
     "output_type": "display_data"
    },
    {
     "name": "stdout",
     "output_type": "stream",
     "text": [
      "ASIN : B004TUJ7GK\n",
      "Brand: finebrandshop \n",
      "Title: ladies turquoise seamless tank top cut pattern along sides top \n",
      "Euclidean similarity with the query image : 0.0\n",
      "============================================================\n"
     ]
    },
    {
     "data": {
      "image/png": "[encoded data removed]",
      "text/plain": [
       "<Figure size 1800x216 with 3 Axes>"
      ]
     },
     "metadata": {
      "needs_background": "light"
     },
     "output_type": "display_data"
    },
    {
     "name": "stdout",
     "output_type": "stream",
     "text": [
      "ASIN : B004TUD76Q\n",
      "Brand: finebrandshop \n",
      "Title: ladies yellow seamless tank top cut pattern along sides top \n",
      "Euclidean similarity with the query image : 1.4142135623730951\n",
      "============================================================\n"
     ]
    },
    {
     "data": {
      "image/png": "[encoded data removed]",
      "text/plain": [
       "<Figure size 1800x216 with 3 Axes>"
      ]
     },
     "metadata": {
      "needs_background": "light"
     },
     "output_type": "display_data"
    },
    {
     "name": "stdout",
     "output_type": "stream",
     "text": [
      "ASIN : B004TUJ6MA\n",
      "Brand: finebrandshop \n",
      "Title: ladies fushia seamless tank top cut pattern along sides top \n",
      "Euclidean similarity with the query image : 2.414213562373095\n",
      "============================================================\n"
     ]
    },
    {
     "data": {
      "image/png": "[encoded data removed]",
      "text/plain": [
       "<Figure size 1800x216 with 3 Axes>"
      ]
     },
     "metadata": {
      "needs_background": "light"
     },
     "output_type": "display_data"
    },
    {
     "name": "stdout",
     "output_type": "stream",
     "text": [
      "ASIN : B009286MFS\n",
      "Brand: finebrandshop \n",
      "Title: ladies yellow seamless ribbed tube top \n",
      "Euclidean similarity with the query image : 3.1622776601683795\n",
      "============================================================\n"
     ]
    },
    {
     "data": {
      "image/png": "[encoded data removed]",
      "text/plain": [
       "<Figure size 1800x216 with 3 Axes>"
      ]
     },
     "metadata": {
      "needs_background": "light"
     },
     "output_type": "display_data"
    },
    {
     "name": "stdout",
     "output_type": "stream",
     "text": [
      "ASIN : B00D01CGU8\n",
      "Brand: finebrandshop \n",
      "Title: ladies yellow seamless stone set tube top \n",
      "Euclidean similarity with the query image : 3.3166247903554\n",
      "============================================================\n"
     ]
    },
    {
     "data": {
      "image/png": "[encoded data removed]",
      "text/plain": [
       "<Figure size 1800x216 with 3 Axes>"
      ]
     },
     "metadata": {
      "needs_background": "light"
     },
     "output_type": "display_data"
    },
    {
     "name": "stdout",
     "output_type": "stream",
     "text": [
      "ASIN : B01M259QJD\n",
      "Brand: marilyn monroe \n",
      "Title: marilyn monroe highlow tank top \n",
      "Euclidean similarity with the query image : 3.3166247903554\n",
      "============================================================\n",
      "Average euclidean distance is  7.004348586590748\n"
     ]
    }
   ],
   "source": [
    "#call the bag-of-words model for a product to get similar products.\n",
    "print('Getting the similar items for document id and number of items')\n",
    "bag_of_words_model(56, 6)\n",
    "# In the output heat map each value represents the count value \n",
    "# of the label word, the color represents the intersection\n",
    "# with inputs title."
   ]
  },
  {
   "cell_type": "markdown",
   "metadata": {},
   "source": [
    "## 2.TF-IDF BASED PRODUCT SIMILARITY"
   ]
  },
  {
   "cell_type": "code",
   "execution_count": 75,
   "metadata": {},
   "outputs": [],
   "source": [
    "tfidf_title_vectorizer = TfidfVectorizer(min_df = 0)\n",
    "tfidf_title_features = tfidf_title_vectorizer.fit_transform(data['title'])\n",
    "tf_idf_euclidean=[]\n",
    "def tfidf_model(doc_id, num_results):\n",
    "\n",
    "    L=[]\n",
    "    pairwise_dist = pairwise_distances(tfidf_title_features,tfidf_title_features[doc_id])\n",
    "\n",
    "    indices = np.argsort(pairwise_dist.flatten())[0:num_results]\n",
    "    pdists  = np.sort(pairwise_dist.flatten())[0:num_results]\n",
    "\n",
    "    df_indices = list(data.index[indices])\n",
    "    for i in range(0,len(indices)):\n",
    "        L.append(data['asin'].loc[df_indices[i]])\n",
    "    return L\n"
   ]
  },
  {
   "cell_type": "code",
   "execution_count": 76,
   "metadata": {},
   "outputs": [],
   "source": [
    "tfidf_title_vectorizer = TfidfVectorizer(min_df = 0)\n",
    "tfidf_title_features = tfidf_title_vectorizer.fit_transform(data['title'])\n",
    "# tfidf_title_features.shape = #data_points * #words_in_corpus\n",
    "# CountVectorizer().fit_transform(courpus) returns the a sparase matrix of dimensions #data_points * #words_in_corpus\n",
    "# tfidf_title_features[doc_id, index_of_word_in_corpus] = tfidf values of the word in given doc\n",
    "tf_idf_euclidean=[]\n",
    "def tfidf_model(doc_id, num_results):\n",
    "    # doc_id: apparel's id in given corpus\n",
    "    \n",
    "    # pairwise_dist will store the distance from given input apparel to all remaining apparels\n",
    "    # the metric we used here is cosine, the coside distance is mesured as K(X, Y) = <X, Y> / (||X||*||Y||)\n",
    "    # http://scikit-learn.org/stable/modules/metrics.html#cosine-similarity\n",
    "    pairwise_dist = pairwise_distances(tfidf_title_features,tfidf_title_features[doc_id])\n",
    "\n",
    "    # np.argsort will return indices of 9 smallest distances\n",
    "    indices = np.argsort(pairwise_dist.flatten())[0:num_results]\n",
    "    #pdists will store the 9 smallest distances\n",
    "    pdists  = np.sort(pairwise_dist.flatten())[0:num_results]\n",
    "\n",
    "    #data frame indices of the 9 smallest distace's\n",
    "    df_indices = list(data.index[indices])\n",
    "\n",
    "    for i in range(0,len(indices)):\n",
    "        # we will pass 1. doc_id, 2. title1, 3. title2, url, model\n",
    "        get_result(indices[i], data['title'].loc[df_indices[0]], data['title'].loc[df_indices[i]],data['medium_image_url'].loc[df_indices[i]], 'tfidf')\n",
    "        print('ASIN :',data['asin'].loc[df_indices[i]])\n",
    "        print('BRAND :',data['brand'].loc[df_indices[i]])\n",
    "        tf_idf_euclidean.append(pdists[i])\n",
    "        print ('Eucliden distance from the given image :', pdists[i])\n",
    "        print('='*125)\n",
    "    print('Average euclidean distance is',sum(tf_idf_euclidean)/num_results)\n"
   ]
  },
  {
   "cell_type": "markdown",
   "metadata": {},
   "source": [
    "## 3. IDF BASED PRODUCT SIMILARITY"
   ]
  },
  {
   "cell_type": "code",
   "execution_count": 80,
   "metadata": {},
   "outputs": [],
   "source": [
    "idf_title_vectorizer = CountVectorizer()\n",
    "idf_title_features = idf_title_vectorizer.fit_transform(data['title'])\n",
    "\n",
    "# idf_title_features.shape = #data_points * #words_in_corpus\n",
    "# CountVectorizer().fit_transform(courpus) returns the a sparase matrix of dimensions #data_points * #words_in_corpus\n",
    "# idf_title_features[doc_id, index_of_word_in_corpus] = number of times the word occured in that doc"
   ]
  },
  {
   "cell_type": "code",
   "execution_count": 81,
   "metadata": {},
   "outputs": [],
   "source": [
    "def n_containing(word):\n",
    "    # return the number of documents which had the given word\n",
    "    return sum(1 for blob in data['title'] if word in blob.split())\n",
    "\n",
    "def idf(word):\n",
    "    # idf = log(#number of docs / #number of docs which had the given word)\n",
    "    return math.log(data.shape[0] / (n_containing(word)))"
   ]
  },
  {
   "cell_type": "code",
   "execution_count": 83,
   "metadata": {},
   "outputs": [],
   "source": [
    "idf_euclidean=[]\n",
    "def idf_model(doc_id, num_results):\n",
    "    # doc_id: apparel's id in given corpus\n",
    "    \n",
    "    # pairwise_dist will store the distance from given input apparel to all remaining apparels\n",
    "    # the metric we used here is cosine, the coside distance is mesured as K(X, Y) = <X, Y> / (||X||*||Y||)\n",
    "    pairwise_dist = pairwise_distances(idf_title_features,idf_title_features[doc_id])\n",
    "\n",
    "    # np.argsort will return indices of 9 smallest distances\n",
    "    indices = np.argsort(pairwise_dist.flatten())[0:num_results]\n",
    "    #pdists will store the 9 smallest distances\n",
    "    pdists  = np.sort(pairwise_dist.flatten())[0:num_results]\n",
    "\n",
    "    #data frame indices of the 9 smallest distace's\n",
    "    df_indices = list(data.index[indices])\n",
    "\n",
    "    for i in range(0,len(indices)):\n",
    "        get_result(indices[i],data['title'].loc[df_indices[0]], data['title'].loc[df_indices[i]], data['medium_image_url'].loc[df_indices[i]], 'idf')\n",
    "        print('ASIN :',data['asin'].loc[df_indices[i]])\n",
    "        print('Brand :',data['brand'].loc[df_indices[i]])\n",
    "        idf_euclidean.append(pdists[i])\n",
    "        print ('euclidean distance from the given image :', pdists[i])\n",
    "        print('='*125)\n",
    "    print('Average euclidean distance is ',sum(idf_euclidean)/num_results)"
   ]
  },
  {
   "cell_type": "code",
   "execution_count": null,
   "metadata": {},
   "outputs": [],
   "source": [
    "idf_model(0,5)"
   ]
  },
  {
   "cell_type": "markdown",
   "metadata": {
    "tags": []
   },
   "source": [
    "## 4. KNN BASED PRODUCT SIMILARITY"
   ]
  },
  {
   "cell_type": "code",
   "execution_count": 64,
   "metadata": {},
   "outputs": [],
   "source": [
    "import numpy as np\n",
    "import pandas as pd \n",
    "from sklearn.neighbors import NearestNeighbors"
   ]
  },
  {
   "cell_type": "code",
   "execution_count": 65,
   "metadata": {},
   "outputs": [
    {
     "data": {
      "text/plain": [
       "Index(['id', 'index', 'asin', 'brand', 'color', 'medium_image_url',\n",
       "       'product_type_name', 'title', 'formatted_price', 'digital'],\n",
       "      dtype='object')"
      ]
     },
     "execution_count": 65,
     "metadata": {},
     "output_type": "execute_result"
    }
   ],
   "source": [
    "df.columns"
   ]
  },
  {
   "cell_type": "code",
   "execution_count": 66,
   "metadata": {},
   "outputs": [],
   "source": [
    "sparse_matrix_products = df[[\"color\",\"brand\",\"product_type_name\",\"formatted_price\"]]"
   ]
  },
  {
   "cell_type": "code",
   "execution_count": 67,
   "metadata": {},
   "outputs": [],
   "source": [
    "sparse_matrix_products[\"normalized_price\"]=(sparse_matrix_products[\"formatted_price\"]-sparse_matrix_products[\"formatted_price\"].min())/(sparse_matrix_products[\"formatted_price\"].max()-sparse_matrix_products[\"formatted_price\"].min())"
   ]
  },
  {
   "cell_type": "code",
   "execution_count": 68,
   "metadata": {},
   "outputs": [
    {
     "data": {
      "text/plain": [
       "count    16315.000000\n",
       "mean         0.034747\n",
       "std          0.047163\n",
       "min          0.000000\n",
       "25%          0.012377\n",
       "50%          0.020081\n",
       "75%          0.036724\n",
       "max          1.000000\n",
       "Name: normalized_price, dtype: float64"
      ]
     },
     "execution_count": 68,
     "metadata": {},
     "output_type": "execute_result"
    }
   ],
   "source": [
    "sparse_matrix_products[\"normalized_price\"].describe()"
   ]
  },
  {
   "cell_type": "code",
   "execution_count": 69,
   "metadata": {},
   "outputs": [],
   "source": [
    "sparse_matrix_products.drop(\"formatted_price\",axis=1,inplace=True)"
   ]
  },
  {
   "cell_type": "code",
   "execution_count": 70,
   "metadata": {},
   "outputs": [
    {
     "name": "stdout",
     "output_type": "stream",
     "text": [
      "<class 'pandas.core.frame.DataFrame'>\n",
      "RangeIndex: 16315 entries, 0 to 16314\n",
      "Data columns (total 4 columns):\n",
      " #   Column             Non-Null Count  Dtype  \n",
      "---  ------             --------------  -----  \n",
      " 0   color              16315 non-null  object \n",
      " 1   brand              16315 non-null  object \n",
      " 2   product_type_name  16315 non-null  object \n",
      " 3   normalized_price   16315 non-null  float64\n",
      "dtypes: float64(1), object(3)\n",
      "memory usage: 510.0+ KB\n"
     ]
    }
   ],
   "source": [
    "sparse_matrix_products.info()"
   ]
  },
  {
   "cell_type": "code",
   "execution_count": 71,
   "metadata": {},
   "outputs": [],
   "source": [
    "sparse_matrix_products = pd.get_dummies(sparse_matrix_products)"
   ]
  },
  {
   "cell_type": "code",
   "execution_count": 72,
   "metadata": {},
   "outputs": [
    {
     "data": {
      "text/plain": [
       "NearestNeighbors(algorithm='brute', metric='cosine', n_jobs=-1, n_neighbors=15)"
      ]
     },
     "execution_count": 72,
     "metadata": {},
     "output_type": "execute_result"
    }
   ],
   "source": [
    "model = NearestNeighbors(n_neighbors=15,\n",
    "                         metric='cosine',\n",
    "                         algorithm='brute',\n",
    "                         n_jobs=-1)\n",
    "model.fit(sparse_matrix_products)"
   ]
  },
  {
   "cell_type": "code",
   "execution_count": 83,
   "metadata": {},
   "outputs": [],
   "source": [
    "import pickle \n",
    "\n",
    "# Its important to use binary mode \n",
    "knnPickle = open('knnpickle_file', 'wb') \n",
    "\n",
    "# source, destination \n",
    "pickle.dump(model, knnPickle)                      \n"
   ]
  },
  {
   "cell_type": "code",
   "execution_count": 84,
   "metadata": {},
   "outputs": [],
   "source": [
    "\n",
    "# load the model from disk\n",
    "loaded_model = pickle.load(open('knnpickle_file', 'rb'))\n",
    "\n",
    "distances,indices=loaded_model.kneighbors(sparse_matrix_products.iloc[query_index,:].values.reshape(1,-1))"
   ]
  },
  {
   "cell_type": "code",
   "execution_count": 88,
   "metadata": {},
   "outputs": [
    {
     "name": "stdout",
     "output_type": "stream",
     "text": [
      "15\n",
      "Recommendation for 3:\n",
      "\n",
      "1: 63, with distance of 1.0881428765818768e-05\n",
      "2: 216, with distance of 1.0908512877327858e-05\n",
      "3: 220, with distance of 1.375646299683897e-05\n",
      "4: 11, with distance of 3.322765703517305e-05\n",
      "5: 15293, with distance of 0.3333265765983723\n",
      "6: 13613, with distance of 0.33332657683404643\n",
      "7: 12644, with distance of 0.3333265771033882\n",
      "8: 13526, with distance of 0.3333265771033882\n",
      "9: 11000, with distance of 0.3333265771033882\n"
     ]
    }
   ],
   "source": [
    "#query_index=np.random.choice(ddx.shape[0])\n",
    "query_index=58\n",
    "#print(ddx.iloc[query_index,:])\n",
    "#print(\"Distances -->\",distances,\" Indices -->\",indices)\n",
    "\n",
    "distances,indices=model.kneighbors(sparse_matrix_products.iloc[query_index,:].values.reshape(1,-1))\n",
    "\n",
    "print(len(distances.flatten()))\n",
    "M=[]\n",
    "D=[]\n",
    "for i in range(0,10):\n",
    "    if i==0:\n",
    "        print(\"Recommendation for {0}:\\n\".format(sparse_matrix_products.index[query_index]))\n",
    "    else:\n",
    "        M.append(sparse_matrix_products.index[indices.flatten()[i]])\n",
    "        D.append(distances.flatten()[i])\n",
    "        print(\"{0}: {1}, with distance of {2}\".format(i,sparse_matrix_products.index[indices.flatten()[i]],distances.flatten()[i]))\n",
    " "
   ]
  },
  {
   "cell_type": "code",
   "execution_count": 207,
   "metadata": {},
   "outputs": [
    {
     "data": {
      "image/png": "[encoded data removed]",
      "text/plain": [
       "<Figure size 1800x216 with 3 Axes>"
      ]
     },
     "metadata": {
      "needs_background": "light"
     },
     "output_type": "display_data"
    },
    {
     "name": "stdout",
     "output_type": "stream",
     "text": [
      "ASIN : B00IKF5OP8\n",
      "Brand: north end sport red \n",
      "Color: white\n",
      "Price: 34.35\n",
      "Title: north end ladies performance short sleeve shirt 78675  xxxlarge  white \n",
      "La distance est : 0.3332604877896167\n",
      "============================================================\n"
     ]
    },
    {
     "data": {
      "image/png": "[encoded data removed]",
      "text/plain": [
       "<Figure size 1800x216 with 3 Axes>"
      ]
     },
     "metadata": {
      "needs_background": "light"
     },
     "output_type": "display_data"
    },
    {
     "name": "stdout",
     "output_type": "stream",
     "text": [
      "ASIN : B00N9JDGVE\n",
      "Brand: ash city  north end sport red \n",
      "Color: white\n",
      "Price: 33.93\n",
      "Title: nr lad perf shrt wrollup slvs white 701 3xl \n",
      "La distance est : 0.33326049297132077\n",
      "============================================================\n"
     ]
    },
    {
     "data": {
      "image/png": "[encoded data removed]",
      "text/plain": [
       "<Figure size 1800x216 with 3 Axes>"
      ]
     },
     "metadata": {
      "needs_background": "light"
     },
     "output_type": "display_data"
    },
    {
     "name": "stdout",
     "output_type": "stream",
     "text": [
      "ASIN : B06XRKP3FB\n",
      "Brand: rag  bone \n",
      "Color: white\n",
      "Price: 34.99\n",
      "Title: rag  bonejean womens striped sleeveless tank top white \n",
      "La distance est : 0.33326055597968496\n",
      "============================================================\n"
     ]
    },
    {
     "data": {
      "image/png": "[encoded data removed]",
      "text/plain": [
       "<Figure size 1800x216 with 3 Axes>"
      ]
     },
     "metadata": {
      "needs_background": "light"
     },
     "output_type": "display_data"
    },
    {
     "name": "stdout",
     "output_type": "stream",
     "text": [
      "ASIN : B00MX7ZRZQ\n",
      "Brand: devon  jones \n",
      "Color: white\n",
      "Price: 33.09\n",
      "Title: devon  jones ladies threequarter sleeve stretch poplin blouse  white  \n",
      "La distance est : 0.33326062204481943\n",
      "============================================================\n"
     ]
    },
    {
     "data": {
      "image/png": "[encoded data removed]",
      "text/plain": [
       "<Figure size 1800x216 with 3 Axes>"
      ]
     },
     "metadata": {
      "needs_background": "light"
     },
     "output_type": "display_data"
    },
    {
     "name": "stdout",
     "output_type": "stream",
     "text": [
      "ASIN : B071V97XRV\n",
      "Brand: lucy paris \n",
      "Color: white\n",
      "Price: 36.59\n",
      "Title: lucy paris womens bell sleeve lace top white size xsmall \n",
      "La distance est : 0.33326112839318656\n",
      "============================================================\n"
     ]
    },
    {
     "data": {
      "image/png": "[encoded data removed]",
      "text/plain": [
       "<Figure size 1800x216 with 3 Axes>"
      ]
     },
     "metadata": {
      "needs_background": "light"
     },
     "output_type": "display_data"
    },
    {
     "name": "stdout",
     "output_type": "stream",
     "text": [
      "ASIN : B00DT91Y5E\n",
      "Brand: leos imports \n",
      "Color: white\n",
      "Price: 30.99\n",
      "Title: mexican peasant puebla blouse 3x white \n",
      "La distance est : 0.333261637255041\n",
      "============================================================\n"
     ]
    },
    {
     "data": {
      "image/png": "[encoded data removed]",
      "text/plain": [
       "<Figure size 1800x216 with 3 Axes>"
      ]
     },
     "metadata": {
      "needs_background": "light"
     },
     "output_type": "display_data"
    },
    {
     "name": "stdout",
     "output_type": "stream",
     "text": [
      "ASIN : B00F08C6BS\n",
      "Brand: ayurvastram \n",
      "Color: white\n",
      "Price: 37.99\n",
      "Title: ayurvastram pure cotton shirt tunic top kurti white size 32w \n",
      "La distance est : 0.33326210023394254\n",
      "============================================================\n"
     ]
    },
    {
     "data": {
      "image/png": "[encoded data removed]",
      "text/plain": [
       "<Figure size 1800x216 with 3 Axes>"
      ]
     },
     "metadata": {
      "needs_background": "light"
     },
     "output_type": "display_data"
    },
    {
     "name": "stdout",
     "output_type": "stream",
     "text": [
      "ASIN : B00506ZI56\n",
      "Brand: champion \n",
      "Color: white\n",
      "Price: 30.35\n",
      "Title: champion womens double dry elevation ii polo athletic royalwhite l \n",
      "La distance est : 0.333262143365308\n",
      "============================================================\n"
     ]
    },
    {
     "data": {
      "image/png": "[encoded data removed]",
      "text/plain": [
       "<Figure size 1800x216 with 3 Axes>"
      ]
     },
     "metadata": {
      "needs_background": "light"
     },
     "output_type": "display_data"
    },
    {
     "name": "stdout",
     "output_type": "stream",
     "text": [
      "ASIN : B0096HR11O\n",
      "Brand: insattva colors \n",
      "Color: white\n",
      "Price: 29.99\n",
      "Title: womens indian ethnic sleeveless embroidered kurta tunic white small \n",
      "La distance est : 0.33326246843839546\n",
      "============================================================\n"
     ]
    }
   ],
   "source": [
    "for i in range(0,len(M)):\n",
    "    get_result(M[i],df['title'].loc[M[0]], df['title'].loc[M[i]], df['medium_image_url'].loc[M[i]], 'bag_of_words')\n",
    "    print('ASIN :',df['asin'].loc[M[i]])\n",
    "    print ('Brand:', df['brand'].loc[M[i]])\n",
    "    print ('Color:', df['color'].loc[M[i]])\n",
    "    print ('Price:', df['formatted_price'].loc[M[i]])\n",
    "    print ('Title:', df['title'].loc[M[i]])\n",
    "    print (\"La distance est :\", D[i])\n",
    "    print('='*60)\n",
    "\n"
   ]
  },
  {
   "cell_type": "markdown",
   "metadata": {
    "tags": []
   },
   "source": [
    "### Comparing the models"
   ]
  },
  {
   "cell_type": "code",
   "execution_count": 150,
   "metadata": {},
   "outputs": [
    {
     "data": {
      "text/plain": [
       "[2.3282999821274517, 0.5128102298614877, 2.8646583938978116]"
      ]
     },
     "execution_count": 150,
     "metadata": {},
     "output_type": "execute_result"
    }
   ],
   "source": [
    "euclidean_distance=[]\n",
    "num_results=20\n",
    "euclidean_distance.append(sum(bag_of_words_euclidean)/num_results)\n",
    "euclidean_distance.append(sum(tf_idf_euclidean)/num_results)\n",
    "euclidean_distance.append(sum(idf_euclidean)/num_results)\n",
    "x=euclidean_distance\n",
    "y=[]\n",
    "for i in range(0,47,3):\n",
    "    y.append(i)\n",
    "\n",
    "euclidean_distance"
   ]
  },
  {
   "cell_type": "code",
   "execution_count": 158,
   "metadata": {},
   "outputs": [
    {
     "data": {
      "image/png": "[encoded data removed]",
      "text/plain": [
       "<Figure size 640x480 with 1 Axes>"
      ]
     },
     "metadata": {},
     "output_type": "display_data"
    }
   ],
   "source": [
    "import matplotlib.pyplot as plt\n",
    "import numpy as np\n",
    "import matplotlib.pyplot as plt\n",
    "objects = ('bag_of_words', 'tf_idf', 'idf')\n",
    "y_pos = np.arange(len(objects))\n",
    "plt.bar(objects,x)\n",
    "plt.ylabel('Euclidean Distance')\n",
    "plt.title('Euclidean Distance Measurement')\n",
    "plt.savefig('Comparaison des modeles.png')\n",
    "plt.show()"
   ]
  }
 ],
 "metadata": {
  "kernelspec": {
   "display_name": "Python 3",
   "language": "python",
   "name": "python3"
  },
  "language_info": {
   "codemirror_mode": {
    "name": "ipython",
    "version": 3
   },
   "file_extension": ".py",
   "mimetype": "text/x-python",
   "name": "python",
   "nbconvert_exporter": "python",
   "pygments_lexer": "ipython3",
   "version": "3.8.8"
  }
 },
 "nbformat": 4,
 "nbformat_minor": 4
}
